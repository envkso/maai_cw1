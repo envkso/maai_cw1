{
 "cells": [
  {
   "cell_type": "code",
   "execution_count": 34,
   "metadata": {},
   "outputs": [],
   "source": [
    "import numpy as np\n",
    "import pandas as pd\n",
    "import matplotlib.pyplot as plt"
   ]
  },
  {
   "cell_type": "code",
   "execution_count": 50,
   "metadata": {},
   "outputs": [],
   "source": [
    "OUTPUT_DATA = False"
   ]
  },
  {
   "cell_type": "code",
   "execution_count": 51,
   "metadata": {},
   "outputs": [],
   "source": [
    "fileName = \"sample.csv\"\n",
    "#fileName = \"train.csv\"\n",
    "#fileName = \"validation.csv\"\n",
    "filePath = r\"D:\\Documents\\MSc RaC\\COMPG0124 Multi-agent Artificial Intelligence\\coursework\\cw1\\data\\\\\" + fileName"
   ]
  },
  {
   "cell_type": "code",
   "execution_count": 52,
   "metadata": {},
   "outputs": [],
   "source": [
    "# Load data into pandas dataframe\n",
    "df = pd.read_csv(filePath, sep=',',header=0, quotechar='\"')"
   ]
  },
  {
   "cell_type": "code",
   "execution_count": 53,
   "metadata": {},
   "outputs": [],
   "source": [
    "# Split 'useragent' field into 'OS' and 'browser'\n",
    "dfn = df['useragent'].str.split('_', expand = True)\n",
    "df['OS'] = dfn[0]\n",
    "df['browser'] = dfn[1]\n",
    "# Create slotsize field\n",
    "df['slotsize'] = df['slotheight'] * df['slotwidth']"
   ]
  },
  {
   "cell_type": "code",
   "execution_count": 68,
   "metadata": {},
   "outputs": [
    {
     "data": {
      "text/html": [
       "<div>\n",
       "<style scoped>\n",
       "    .dataframe tbody tr th:only-of-type {\n",
       "        vertical-align: middle;\n",
       "    }\n",
       "\n",
       "    .dataframe tbody tr th {\n",
       "        vertical-align: top;\n",
       "    }\n",
       "\n",
       "    .dataframe thead th {\n",
       "        text-align: right;\n",
       "    }\n",
       "</style>\n",
       "<table border=\"1\" class=\"dataframe\">\n",
       "  <thead>\n",
       "    <tr style=\"text-align: right;\">\n",
       "      <th></th>\n",
       "      <th>click</th>\n",
       "      <th>weekday</th>\n",
       "      <th>hour</th>\n",
       "      <th>bidid</th>\n",
       "      <th>userid</th>\n",
       "      <th>useragent</th>\n",
       "      <th>IP</th>\n",
       "      <th>region</th>\n",
       "      <th>city</th>\n",
       "      <th>adexchange</th>\n",
       "      <th>...</th>\n",
       "      <th>slotprice</th>\n",
       "      <th>creative</th>\n",
       "      <th>bidprice</th>\n",
       "      <th>payprice</th>\n",
       "      <th>keypage</th>\n",
       "      <th>advertiser</th>\n",
       "      <th>usertag</th>\n",
       "      <th>OS</th>\n",
       "      <th>browser</th>\n",
       "      <th>slotsize</th>\n",
       "    </tr>\n",
       "  </thead>\n",
       "  <tbody>\n",
       "    <tr>\n",
       "      <th>count</th>\n",
       "      <td>10000.000000</td>\n",
       "      <td>10000.000000</td>\n",
       "      <td>10000.000000</td>\n",
       "      <td>10000</td>\n",
       "      <td>10000</td>\n",
       "      <td>10000</td>\n",
       "      <td>10000</td>\n",
       "      <td>10000.000000</td>\n",
       "      <td>10000.000000</td>\n",
       "      <td>9778.000000</td>\n",
       "      <td>...</td>\n",
       "      <td>10000.000000</td>\n",
       "      <td>10000</td>\n",
       "      <td>10000.000000</td>\n",
       "      <td>10000.000000</td>\n",
       "      <td>7865</td>\n",
       "      <td>10000.000000</td>\n",
       "      <td>7867</td>\n",
       "      <td>10000</td>\n",
       "      <td>10000</td>\n",
       "      <td>10000.000000</td>\n",
       "    </tr>\n",
       "    <tr>\n",
       "      <th>unique</th>\n",
       "      <td>NaN</td>\n",
       "      <td>NaN</td>\n",
       "      <td>NaN</td>\n",
       "      <td>10000</td>\n",
       "      <td>9998</td>\n",
       "      <td>22</td>\n",
       "      <td>9491</td>\n",
       "      <td>NaN</td>\n",
       "      <td>NaN</td>\n",
       "      <td>NaN</td>\n",
       "      <td>...</td>\n",
       "      <td>NaN</td>\n",
       "      <td>114</td>\n",
       "      <td>NaN</td>\n",
       "      <td>NaN</td>\n",
       "      <td>18</td>\n",
       "      <td>NaN</td>\n",
       "      <td>5000</td>\n",
       "      <td>6</td>\n",
       "      <td>8</td>\n",
       "      <td>NaN</td>\n",
       "    </tr>\n",
       "    <tr>\n",
       "      <th>top</th>\n",
       "      <td>NaN</td>\n",
       "      <td>NaN</td>\n",
       "      <td>NaN</td>\n",
       "      <td>35c34e746c3774d8db108706d68a8c64e06a2e25</td>\n",
       "      <td>5809b02f6d9a206d368e664c449d53f5d5b94904</td>\n",
       "      <td>windows_ie</td>\n",
       "      <td>122.194.13.*</td>\n",
       "      <td>NaN</td>\n",
       "      <td>NaN</td>\n",
       "      <td>NaN</td>\n",
       "      <td>...</td>\n",
       "      <td>NaN</td>\n",
       "      <td>832b91d59d0cb5731431653204a76c0e</td>\n",
       "      <td>NaN</td>\n",
       "      <td>NaN</td>\n",
       "      <td>bebefa5efe83beee17a3d245e7c5085b</td>\n",
       "      <td>NaN</td>\n",
       "      <td>10063</td>\n",
       "      <td>windows</td>\n",
       "      <td>ie</td>\n",
       "      <td>NaN</td>\n",
       "    </tr>\n",
       "    <tr>\n",
       "      <th>freq</th>\n",
       "      <td>NaN</td>\n",
       "      <td>NaN</td>\n",
       "      <td>NaN</td>\n",
       "      <td>1</td>\n",
       "      <td>2</td>\n",
       "      <td>5993</td>\n",
       "      <td>13</td>\n",
       "      <td>NaN</td>\n",
       "      <td>NaN</td>\n",
       "      <td>NaN</td>\n",
       "      <td>...</td>\n",
       "      <td>NaN</td>\n",
       "      <td>576</td>\n",
       "      <td>NaN</td>\n",
       "      <td>NaN</td>\n",
       "      <td>1987</td>\n",
       "      <td>NaN</td>\n",
       "      <td>359</td>\n",
       "      <td>9507</td>\n",
       "      <td>5993</td>\n",
       "      <td>NaN</td>\n",
       "    </tr>\n",
       "    <tr>\n",
       "      <th>mean</th>\n",
       "      <td>0.000400</td>\n",
       "      <td>2.892900</td>\n",
       "      <td>13.552800</td>\n",
       "      <td>NaN</td>\n",
       "      <td>NaN</td>\n",
       "      <td>NaN</td>\n",
       "      <td>NaN</td>\n",
       "      <td>147.879200</td>\n",
       "      <td>153.023100</td>\n",
       "      <td>2.105032</td>\n",
       "      <td>...</td>\n",
       "      <td>27.119700</td>\n",
       "      <td>NaN</td>\n",
       "      <td>272.694000</td>\n",
       "      <td>78.826500</td>\n",
       "      <td>NaN</td>\n",
       "      <td>2841.929300</td>\n",
       "      <td>NaN</td>\n",
       "      <td>NaN</td>\n",
       "      <td>NaN</td>\n",
       "      <td>77029.436000</td>\n",
       "    </tr>\n",
       "    <tr>\n",
       "      <th>std</th>\n",
       "      <td>0.019997</td>\n",
       "      <td>2.066073</td>\n",
       "      <td>6.544516</td>\n",
       "      <td>NaN</td>\n",
       "      <td>NaN</td>\n",
       "      <td>NaN</td>\n",
       "      <td>NaN</td>\n",
       "      <td>101.628476</td>\n",
       "      <td>103.076202</td>\n",
       "      <td>0.874861</td>\n",
       "      <td>...</td>\n",
       "      <td>37.676875</td>\n",
       "      <td>NaN</td>\n",
       "      <td>28.915943</td>\n",
       "      <td>60.339005</td>\n",
       "      <td>NaN</td>\n",
       "      <td>780.105152</td>\n",
       "      <td>NaN</td>\n",
       "      <td>NaN</td>\n",
       "      <td>NaN</td>\n",
       "      <td>17403.785399</td>\n",
       "    </tr>\n",
       "    <tr>\n",
       "      <th>min</th>\n",
       "      <td>0.000000</td>\n",
       "      <td>0.000000</td>\n",
       "      <td>0.000000</td>\n",
       "      <td>NaN</td>\n",
       "      <td>NaN</td>\n",
       "      <td>NaN</td>\n",
       "      <td>NaN</td>\n",
       "      <td>0.000000</td>\n",
       "      <td>0.000000</td>\n",
       "      <td>1.000000</td>\n",
       "      <td>...</td>\n",
       "      <td>0.000000</td>\n",
       "      <td>NaN</td>\n",
       "      <td>227.000000</td>\n",
       "      <td>0.000000</td>\n",
       "      <td>NaN</td>\n",
       "      <td>1458.000000</td>\n",
       "      <td>NaN</td>\n",
       "      <td>NaN</td>\n",
       "      <td>NaN</td>\n",
       "      <td>14040.000000</td>\n",
       "    </tr>\n",
       "    <tr>\n",
       "      <th>25%</th>\n",
       "      <td>0.000000</td>\n",
       "      <td>1.000000</td>\n",
       "      <td>10.000000</td>\n",
       "      <td>NaN</td>\n",
       "      <td>NaN</td>\n",
       "      <td>NaN</td>\n",
       "      <td>NaN</td>\n",
       "      <td>79.000000</td>\n",
       "      <td>79.000000</td>\n",
       "      <td>1.000000</td>\n",
       "      <td>...</td>\n",
       "      <td>0.000000</td>\n",
       "      <td>NaN</td>\n",
       "      <td>241.000000</td>\n",
       "      <td>33.000000</td>\n",
       "      <td>NaN</td>\n",
       "      <td>2259.000000</td>\n",
       "      <td>NaN</td>\n",
       "      <td>NaN</td>\n",
       "      <td>NaN</td>\n",
       "      <td>65520.000000</td>\n",
       "    </tr>\n",
       "    <tr>\n",
       "      <th>50%</th>\n",
       "      <td>0.000000</td>\n",
       "      <td>3.000000</td>\n",
       "      <td>14.000000</td>\n",
       "      <td>NaN</td>\n",
       "      <td>NaN</td>\n",
       "      <td>NaN</td>\n",
       "      <td>NaN</td>\n",
       "      <td>146.000000</td>\n",
       "      <td>149.000000</td>\n",
       "      <td>2.000000</td>\n",
       "      <td>...</td>\n",
       "      <td>5.000000</td>\n",
       "      <td>NaN</td>\n",
       "      <td>294.000000</td>\n",
       "      <td>68.000000</td>\n",
       "      <td>NaN</td>\n",
       "      <td>3358.000000</td>\n",
       "      <td>NaN</td>\n",
       "      <td>NaN</td>\n",
       "      <td>NaN</td>\n",
       "      <td>75000.000000</td>\n",
       "    </tr>\n",
       "    <tr>\n",
       "      <th>75%</th>\n",
       "      <td>0.000000</td>\n",
       "      <td>5.000000</td>\n",
       "      <td>19.000000</td>\n",
       "      <td>NaN</td>\n",
       "      <td>NaN</td>\n",
       "      <td>NaN</td>\n",
       "      <td>NaN</td>\n",
       "      <td>216.000000</td>\n",
       "      <td>222.000000</td>\n",
       "      <td>3.000000</td>\n",
       "      <td>...</td>\n",
       "      <td>50.000000</td>\n",
       "      <td>NaN</td>\n",
       "      <td>300.000000</td>\n",
       "      <td>100.000000</td>\n",
       "      <td>NaN</td>\n",
       "      <td>3427.000000</td>\n",
       "      <td>NaN</td>\n",
       "      <td>NaN</td>\n",
       "      <td>NaN</td>\n",
       "      <td>90000.000000</td>\n",
       "    </tr>\n",
       "    <tr>\n",
       "      <th>max</th>\n",
       "      <td>1.000000</td>\n",
       "      <td>6.000000</td>\n",
       "      <td>23.000000</td>\n",
       "      <td>NaN</td>\n",
       "      <td>NaN</td>\n",
       "      <td>NaN</td>\n",
       "      <td>NaN</td>\n",
       "      <td>394.000000</td>\n",
       "      <td>399.000000</td>\n",
       "      <td>4.000000</td>\n",
       "      <td>...</td>\n",
       "      <td>295.000000</td>\n",
       "      <td>NaN</td>\n",
       "      <td>300.000000</td>\n",
       "      <td>300.000000</td>\n",
       "      <td>NaN</td>\n",
       "      <td>3476.000000</td>\n",
       "      <td>NaN</td>\n",
       "      <td>NaN</td>\n",
       "      <td>NaN</td>\n",
       "      <td>108000.000000</td>\n",
       "    </tr>\n",
       "    <tr>\n",
       "      <th>unique_cnt</th>\n",
       "      <td>2.000000</td>\n",
       "      <td>7.000000</td>\n",
       "      <td>24.000000</td>\n",
       "      <td>10000</td>\n",
       "      <td>9998</td>\n",
       "      <td>22</td>\n",
       "      <td>9491</td>\n",
       "      <td>34.000000</td>\n",
       "      <td>356.000000</td>\n",
       "      <td>4.000000</td>\n",
       "      <td>...</td>\n",
       "      <td>115.000000</td>\n",
       "      <td>114</td>\n",
       "      <td>8.000000</td>\n",
       "      <td>296.000000</td>\n",
       "      <td>18</td>\n",
       "      <td>9.000000</td>\n",
       "      <td>5000</td>\n",
       "      <td>6</td>\n",
       "      <td>8</td>\n",
       "      <td>22.000000</td>\n",
       "    </tr>\n",
       "    <tr>\n",
       "      <th>NaN</th>\n",
       "      <td>0.000000</td>\n",
       "      <td>0.000000</td>\n",
       "      <td>0.000000</td>\n",
       "      <td>0</td>\n",
       "      <td>0</td>\n",
       "      <td>0</td>\n",
       "      <td>0</td>\n",
       "      <td>0.000000</td>\n",
       "      <td>0.000000</td>\n",
       "      <td>222.000000</td>\n",
       "      <td>...</td>\n",
       "      <td>0.000000</td>\n",
       "      <td>0</td>\n",
       "      <td>0.000000</td>\n",
       "      <td>0.000000</td>\n",
       "      <td>2135</td>\n",
       "      <td>0.000000</td>\n",
       "      <td>2133</td>\n",
       "      <td>0</td>\n",
       "      <td>0</td>\n",
       "      <td>0.000000</td>\n",
       "    </tr>\n",
       "  </tbody>\n",
       "</table>\n",
       "<p>13 rows × 28 columns</p>\n",
       "</div>"
      ],
      "text/plain": [
       "                   click       weekday          hour  \\\n",
       "count       10000.000000  10000.000000  10000.000000   \n",
       "unique               NaN           NaN           NaN   \n",
       "top                  NaN           NaN           NaN   \n",
       "freq                 NaN           NaN           NaN   \n",
       "mean            0.000400      2.892900     13.552800   \n",
       "std             0.019997      2.066073      6.544516   \n",
       "min             0.000000      0.000000      0.000000   \n",
       "25%             0.000000      1.000000     10.000000   \n",
       "50%             0.000000      3.000000     14.000000   \n",
       "75%             0.000000      5.000000     19.000000   \n",
       "max             1.000000      6.000000     23.000000   \n",
       "unique_cnt      2.000000      7.000000     24.000000   \n",
       "NaN             0.000000      0.000000      0.000000   \n",
       "\n",
       "                                               bidid  \\\n",
       "count                                          10000   \n",
       "unique                                         10000   \n",
       "top         35c34e746c3774d8db108706d68a8c64e06a2e25   \n",
       "freq                                               1   \n",
       "mean                                             NaN   \n",
       "std                                              NaN   \n",
       "min                                              NaN   \n",
       "25%                                              NaN   \n",
       "50%                                              NaN   \n",
       "75%                                              NaN   \n",
       "max                                              NaN   \n",
       "unique_cnt                                     10000   \n",
       "NaN                                                0   \n",
       "\n",
       "                                              userid   useragent  \\\n",
       "count                                          10000       10000   \n",
       "unique                                          9998          22   \n",
       "top         5809b02f6d9a206d368e664c449d53f5d5b94904  windows_ie   \n",
       "freq                                               2        5993   \n",
       "mean                                             NaN         NaN   \n",
       "std                                              NaN         NaN   \n",
       "min                                              NaN         NaN   \n",
       "25%                                              NaN         NaN   \n",
       "50%                                              NaN         NaN   \n",
       "75%                                              NaN         NaN   \n",
       "max                                              NaN         NaN   \n",
       "unique_cnt                                      9998          22   \n",
       "NaN                                                0           0   \n",
       "\n",
       "                      IP        region          city   adexchange  ...  \\\n",
       "count              10000  10000.000000  10000.000000  9778.000000  ...   \n",
       "unique              9491           NaN           NaN          NaN  ...   \n",
       "top         122.194.13.*           NaN           NaN          NaN  ...   \n",
       "freq                  13           NaN           NaN          NaN  ...   \n",
       "mean                 NaN    147.879200    153.023100     2.105032  ...   \n",
       "std                  NaN    101.628476    103.076202     0.874861  ...   \n",
       "min                  NaN      0.000000      0.000000     1.000000  ...   \n",
       "25%                  NaN     79.000000     79.000000     1.000000  ...   \n",
       "50%                  NaN    146.000000    149.000000     2.000000  ...   \n",
       "75%                  NaN    216.000000    222.000000     3.000000  ...   \n",
       "max                  NaN    394.000000    399.000000     4.000000  ...   \n",
       "unique_cnt          9491     34.000000    356.000000     4.000000  ...   \n",
       "NaN                    0      0.000000      0.000000   222.000000  ...   \n",
       "\n",
       "               slotprice                          creative      bidprice  \\\n",
       "count       10000.000000                             10000  10000.000000   \n",
       "unique               NaN                               114           NaN   \n",
       "top                  NaN  832b91d59d0cb5731431653204a76c0e           NaN   \n",
       "freq                 NaN                               576           NaN   \n",
       "mean           27.119700                               NaN    272.694000   \n",
       "std            37.676875                               NaN     28.915943   \n",
       "min             0.000000                               NaN    227.000000   \n",
       "25%             0.000000                               NaN    241.000000   \n",
       "50%             5.000000                               NaN    294.000000   \n",
       "75%            50.000000                               NaN    300.000000   \n",
       "max           295.000000                               NaN    300.000000   \n",
       "unique_cnt    115.000000                               114      8.000000   \n",
       "NaN             0.000000                                 0      0.000000   \n",
       "\n",
       "                payprice                           keypage    advertiser  \\\n",
       "count       10000.000000                              7865  10000.000000   \n",
       "unique               NaN                                18           NaN   \n",
       "top                  NaN  bebefa5efe83beee17a3d245e7c5085b           NaN   \n",
       "freq                 NaN                              1987           NaN   \n",
       "mean           78.826500                               NaN   2841.929300   \n",
       "std            60.339005                               NaN    780.105152   \n",
       "min             0.000000                               NaN   1458.000000   \n",
       "25%            33.000000                               NaN   2259.000000   \n",
       "50%            68.000000                               NaN   3358.000000   \n",
       "75%           100.000000                               NaN   3427.000000   \n",
       "max           300.000000                               NaN   3476.000000   \n",
       "unique_cnt    296.000000                                18      9.000000   \n",
       "NaN             0.000000                              2135      0.000000   \n",
       "\n",
       "           usertag       OS  browser       slotsize  \n",
       "count         7867    10000    10000   10000.000000  \n",
       "unique        5000        6        8            NaN  \n",
       "top          10063  windows       ie            NaN  \n",
       "freq           359     9507     5993            NaN  \n",
       "mean           NaN      NaN      NaN   77029.436000  \n",
       "std            NaN      NaN      NaN   17403.785399  \n",
       "min            NaN      NaN      NaN   14040.000000  \n",
       "25%            NaN      NaN      NaN   65520.000000  \n",
       "50%            NaN      NaN      NaN   75000.000000  \n",
       "75%            NaN      NaN      NaN   90000.000000  \n",
       "max            NaN      NaN      NaN  108000.000000  \n",
       "unique_cnt    5000        6        8      22.000000  \n",
       "NaN           2133        0        0       0.000000  \n",
       "\n",
       "[13 rows x 28 columns]"
      ]
     },
     "execution_count": 68,
     "metadata": {},
     "output_type": "execute_result"
    }
   ],
   "source": [
    "# Descriptive statistics\n",
    "dfDesc = df.describe(include='all')\n",
    "dfUnqCnt = df.nunique().to_frame().transpose().rename({0: 'unique_cnt'}, axis='index')\n",
    "dfNaN = df.isna().sum().to_frame().transpose().rename({0: 'NaN'}, axis='index')\n",
    "frames = [dfDesc, dfUnqCnt, dfNaN]\n",
    "dfDesc = pd.concat(frames)\n",
    "\n",
    "if OUTPUT_DATA: dfDesc.to_csv('descStats.csv')\n",
    "dfDesc #show"
   ]
  },
  {
   "cell_type": "markdown",
   "metadata": {},
   "source": [
    "# CTR\n",
    "#### (the mean would have been equivalent in this dataset)"
   ]
  },
  {
   "cell_type": "code",
   "execution_count": 55,
   "metadata": {
    "scrolled": true
   },
   "outputs": [
    {
     "data": {
      "image/png": "[encoded data removed]",
      "text/plain": [
       "<Figure size 432x288 with 1 Axes>"
      ]
     },
     "metadata": {
      "needs_background": "light"
     },
     "output_type": "display_data"
    }
   ],
   "source": [
    "# CTR by weekday\n",
    "df.groupby('weekday')['click'].apply(lambda x: x.sum() / x.count()).plot(kind='bar')\n",
    "plt.ylabel('CTR');\n",
    "if OUTPUT_DATA: plt.savefig('CTR_by_weekday.png');"
   ]
  },
  {
   "cell_type": "code",
   "execution_count": 56,
   "metadata": {},
   "outputs": [
    {
     "data": {
      "image/png": "[encoded data removed]",
      "text/plain": [
       "<Figure size 432x288 with 1 Axes>"
      ]
     },
     "metadata": {
      "needs_background": "light"
     },
     "output_type": "display_data"
    }
   ],
   "source": [
    "# CTR by hour\n",
    "df.groupby('hour')['click'].apply(lambda x: x.sum() / x.count()).plot(kind='bar')\n",
    "plt.ylabel('CTR');\n",
    "if OUTPUT_DATA: plt.savefig('CTR_by_hour.png');"
   ]
  },
  {
   "cell_type": "code",
   "execution_count": 57,
   "metadata": {},
   "outputs": [
    {
     "data": {
      "image/png": "[encoded data removed]",
      "text/plain": [
       "<Figure size 432x288 with 1 Axes>"
      ]
     },
     "metadata": {
      "needs_background": "light"
     },
     "output_type": "display_data"
    }
   ],
   "source": [
    "# CTR by OS\n",
    "df.groupby('OS')['click'].apply(lambda x: x.sum() / x.count()).plot(kind='bar')\n",
    "plt.ylabel('CTR');\n",
    "if OUTPUT_DATA: plt.savefig('CTR_by_OS.png');"
   ]
  },
  {
   "cell_type": "code",
   "execution_count": 58,
   "metadata": {},
   "outputs": [
    {
     "data": {
      "image/png": "[encoded data removed]",
      "text/plain": [
       "<Figure size 432x288 with 1 Axes>"
      ]
     },
     "metadata": {
      "needs_background": "light"
     },
     "output_type": "display_data"
    }
   ],
   "source": [
    "# CTR by Browser\n",
    "df.groupby('browser')['click'].apply(lambda x: x.sum() / x.count()).plot(kind='bar')\n",
    "plt.ylabel('CTR');\n",
    "if OUTPUT_DATA: plt.savefig('CTR_by_browser.png');"
   ]
  },
  {
   "cell_type": "code",
   "execution_count": 59,
   "metadata": {},
   "outputs": [
    {
     "data": {
      "image/png": "[encoded data removed]",
      "text/plain": [
       "<Figure size 432x288 with 1 Axes>"
      ]
     },
     "metadata": {
      "needs_background": "light"
     },
     "output_type": "display_data"
    }
   ],
   "source": [
    "# CTR by region\n",
    "df.groupby('region')['click'].apply(lambda x: x.sum() / x.count()).plot(kind='bar')\n",
    "plt.ylabel('CTR');\n",
    "if OUTPUT_DATA: plt.savefig('CTR_by_region.png');"
   ]
  },
  {
   "cell_type": "code",
   "execution_count": 60,
   "metadata": {},
   "outputs": [
    {
     "data": {
      "image/png": "[encoded data removed]",
      "text/plain": [
       "<Figure size 432x288 with 1 Axes>"
      ]
     },
     "metadata": {
      "needs_background": "light"
     },
     "output_type": "display_data"
    }
   ],
   "source": [
    "# CTR by adexchange\n",
    "df.groupby('adexchange')['click'].apply(lambda x: x.sum() / x.count()).plot(kind='bar')\n",
    "plt.ylabel('CTR');\n",
    "if OUTPUT_DATA: plt.savefig('CTR_by_adexchange.png');"
   ]
  },
  {
   "cell_type": "code",
   "execution_count": 61,
   "metadata": {},
   "outputs": [
    {
     "data": {
      "image/png": "[encoded data removed]",
      "text/plain": [
       "<Figure size 432x288 with 1 Axes>"
      ]
     },
     "metadata": {
      "needs_background": "light"
     },
     "output_type": "display_data"
    }
   ],
   "source": [
    "# CTR by slotformat\n",
    "df.groupby('slotformat')['click'].apply(lambda x: x.sum() / x.count()).plot(kind='bar')\n",
    "plt.ylabel('CTR');\n",
    "if OUTPUT_DATA: plt.savefig('CTR_by_slotformat.png');"
   ]
  },
  {
   "cell_type": "code",
   "execution_count": 62,
   "metadata": {},
   "outputs": [
    {
     "data": {
      "image/png": "[encoded data removed]",
      "text/plain": [
       "<Figure size 432x288 with 1 Axes>"
      ]
     },
     "metadata": {
      "needs_background": "light"
     },
     "output_type": "display_data"
    }
   ],
   "source": [
    "# CTR by slotsize\n",
    "df.groupby('slotsize')['click'].apply(lambda x: x.sum() / x.count()).plot(kind='bar')\n",
    "plt.ylabel('CTR');\n",
    "if OUTPUT_DATA: plt.savefig('CTR_by_slotsize.png');"
   ]
  },
  {
   "cell_type": "code",
   "execution_count": 63,
   "metadata": {},
   "outputs": [
    {
     "data": {
      "image/png": "[encoded data removed]",
      "text/plain": [
       "<Figure size 432x288 with 1 Axes>"
      ]
     },
     "metadata": {
      "needs_background": "light"
     },
     "output_type": "display_data"
    }
   ],
   "source": [
    "# CTR by advertiser\n",
    "df.groupby('advertiser')['click'].apply(lambda x: x.sum() / x.count()).plot(kind='bar')\n",
    "plt.ylabel('CTR');\n",
    "if OUTPUT_DATA: plt.savefig('CTR_by_advertiser.png');"
   ]
  },
  {
   "cell_type": "code",
   "execution_count": 77,
   "metadata": {},
   "outputs": [
    {
     "data": {
      "image/png": "[encoded data removed]",
      "text/plain": [
       "<Figure size 720x432 with 8 Axes>"
      ]
     },
     "metadata": {
      "needs_background": "light"
     },
     "output_type": "display_data"
    }
   ],
   "source": [
    "# Multi-figure version\n",
    "# TODO requires some work to format\n",
    "fig, axes = plt.subplots(2, 4, figsize=(10,6))\n",
    "df.groupby('weekday')['click'].apply(lambda x: x.sum() / x.count()).plot(kind='bar', ax=axes[0, 0])\n",
    "df.groupby('hour')['click'].apply(lambda x: x.sum() / x.count()).plot(kind='bar', ax=axes[0, 1])\n",
    "df.groupby('OS')['click'].apply(lambda x: x.sum() / x.count()).plot(kind='bar', ax=axes[0, 2])\n",
    "df.groupby('browser')['click'].apply(lambda x: x.sum() / x.count()).plot(kind='bar', ax=axes[0, 3])\n",
    "df.groupby('region')['click'].apply(lambda x: x.sum() / x.count()).plot(kind='bar', ax=axes[1, 0])\n",
    "df.groupby('adexchange')['click'].apply(lambda x: x.sum() / x.count()).plot(kind='bar', ax=axes[1, 1])\n",
    "df.groupby('slotformat')['click'].apply(lambda x: x.sum() / x.count()).plot(kind='bar', ax=axes[1, 2])\n",
    "df.groupby('advertiser')['click'].apply(lambda x: x.sum() / x.count()).plot(kind='bar', ax=axes[1, 3])\n",
    "if OUTPUT_DATA: plt.savefig('CTR_multi.png');"
   ]
  },
  {
   "cell_type": "markdown",
   "metadata": {},
   "source": [
    "# average cost-per-mille (CPM)"
   ]
  },
  {
   "cell_type": "code",
   "execution_count": 81,
   "metadata": {},
   "outputs": [
    {
     "data": {
      "image/png": "[encoded data removed]",
      "text/plain": [
       "<Figure size 432x288 with 1 Axes>"
      ]
     },
     "metadata": {
      "needs_background": "light"
     },
     "output_type": "display_data"
    }
   ],
   "source": [
    "df.groupby('weekday')['payprice'].mean().plot(kind='bar')\n",
    "plt.ylabel('ave. CPM');\n",
    "if OUTPUT_DATA: plt.savefig('aCPM_by_weekday.png');"
   ]
  },
  {
   "cell_type": "code",
   "execution_count": null,
   "metadata": {},
   "outputs": [],
   "source": [
    "# TODO repeat for other attributes"
   ]
  },
  {
   "cell_type": "markdown",
   "metadata": {},
   "source": [
    "# effective cost-per-click (eCPC)"
   ]
  },
  {
   "cell_type": "code",
   "execution_count": 80,
   "metadata": {},
   "outputs": [
    {
     "data": {
      "image/png": "[encoded data removed]",
      "text/plain": [
       "<Figure size 432x288 with 1 Axes>"
      ]
     },
     "metadata": {
      "needs_background": "light"
     },
     "output_type": "display_data"
    }
   ],
   "source": [
    "df2 = df.groupby('weekday').agg({'click': ['sum'], 'payprice': ['sum']})\n",
    "df2['eCPC'] = np.where(df2['click'] == 0, df2['click'], df2['payprice'] / df2['click'])\n",
    "df2['eCPC'].plot(kind='bar')\n",
    "plt.ylabel('eCPC');\n",
    "if OUTPUT_DATA: plt.savefig('eCPC_by_weekday.png');"
   ]
  },
  {
   "cell_type": "code",
   "execution_count": null,
   "metadata": {},
   "outputs": [],
   "source": [
    "# TODO repeat for other attributes"
   ]
  },
  {
   "cell_type": "markdown",
   "metadata": {},
   "source": [
    "# price"
   ]
  },
  {
   "cell_type": "code",
   "execution_count": 82,
   "metadata": {},
   "outputs": [
    {
     "data": {
      "image/png": "[encoded data removed]",
      "text/plain": [
       "<Figure size 432x288 with 1 Axes>"
      ]
     },
     "metadata": {
      "needs_background": "light"
     },
     "output_type": "display_data"
    }
   ],
   "source": [
    "# TODO"
   ]
  },
  {
   "cell_type": "code",
   "execution_count": null,
   "metadata": {},
   "outputs": [],
   "source": []
  }
 ],
 "metadata": {
  "kernelspec": {
   "display_name": "Python 3",
   "language": "python",
   "name": "python3"
  },
  "language_info": {
   "codemirror_mode": {
    "name": "ipython",
    "version": 3
   },
   "file_extension": ".py",
   "mimetype": "text/x-python",
   "name": "python",
   "nbconvert_exporter": "python",
   "pygments_lexer": "ipython3",
   "version": "3.6.7"
  }
 },
 "nbformat": 4,
 "nbformat_minor": 2
}
