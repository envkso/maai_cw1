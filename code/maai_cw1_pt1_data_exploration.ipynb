{
 "cells": [
  {
   "cell_type": "code",
   "execution_count": 1,
   "metadata": {},
   "outputs": [],
   "source": [
    "import os\n",
    "import numpy as np\n",
    "import pandas as pd\n",
    "import matplotlib.pyplot as plt"
   ]
  },
  {
   "cell_type": "code",
   "execution_count": 2,
   "metadata": {},
   "outputs": [],
   "source": [
    "OUTPUT_DATA = False"
   ]
  },
  {
   "cell_type": "code",
   "execution_count": 2,
   "metadata": {},
   "outputs": [],
   "source": [
    "#fileName = \"sample.csv\"\n",
    "fileName = \"train.csv\"\n",
    "#fileName = \"validation.csv\"\n",
    "scriptDir = os.getcwd() # Assumes that script is executed from its actual location\n",
    "relPath = r\"../data/\" # And data is located in a 'data' folder in the same parent directory as 'code' folder\n",
    "relPathOutput = r\"../output/\"\n",
    "filePath = os.path.join(scriptDir, relPath,fileName)\n",
    "outputFolderPath = os.path.join(scriptDir, relPathOutput)"
   ]
  },
  {
   "cell_type": "code",
   "execution_count": 3,
   "metadata": {},
   "outputs": [],
   "source": [
    "# Load data into pandas dataframe\n",
    "df = pd.read_csv(filePath, sep=',',header=0, quotechar='\"')"
   ]
  },
  {
   "cell_type": "code",
   "execution_count": 35,
   "metadata": {},
   "outputs": [],
   "source": [
    "# Split 'useragent' field into 'OS' and 'browser'\n",
    "dfn = df['useragent'].str.split('_', expand = True)\n",
    "df['OS'] = dfn[0]\n",
    "df['browser'] = dfn[1]\n",
    "# Create slotsize field\n",
    "df['slotsize'] = df['slotheight'] * df['slotwidth']"
   ]
  },
  {
   "cell_type": "code",
   "execution_count": 36,
   "metadata": {},
   "outputs": [
    {
     "data": {
      "text/html": [
       "<div>\n",
       "<style scoped>\n",
       "    .dataframe tbody tr th:only-of-type {\n",
       "        vertical-align: middle;\n",
       "    }\n",
       "\n",
       "    .dataframe tbody tr th {\n",
       "        vertical-align: top;\n",
       "    }\n",
       "\n",
       "    .dataframe thead th {\n",
       "        text-align: right;\n",
       "    }\n",
       "</style>\n",
       "<table border=\"1\" class=\"dataframe\">\n",
       "  <thead>\n",
       "    <tr style=\"text-align: right;\">\n",
       "      <th></th>\n",
       "      <th>click</th>\n",
       "      <th>weekday</th>\n",
       "      <th>hour</th>\n",
       "      <th>bidid</th>\n",
       "      <th>userid</th>\n",
       "      <th>useragent</th>\n",
       "      <th>IP</th>\n",
       "      <th>region</th>\n",
       "      <th>city</th>\n",
       "      <th>adexchange</th>\n",
       "      <th>...</th>\n",
       "      <th>slotprice</th>\n",
       "      <th>creative</th>\n",
       "      <th>bidprice</th>\n",
       "      <th>payprice</th>\n",
       "      <th>keypage</th>\n",
       "      <th>advertiser</th>\n",
       "      <th>usertag</th>\n",
       "      <th>OS</th>\n",
       "      <th>browser</th>\n",
       "      <th>slotsize</th>\n",
       "    </tr>\n",
       "  </thead>\n",
       "  <tbody>\n",
       "    <tr>\n",
       "      <th>count</th>\n",
       "      <td>2.430981e+06</td>\n",
       "      <td>2.430981e+06</td>\n",
       "      <td>2.430981e+06</td>\n",
       "      <td>2430981</td>\n",
       "      <td>2430981</td>\n",
       "      <td>2430981</td>\n",
       "      <td>2430981</td>\n",
       "      <td>2.430981e+06</td>\n",
       "      <td>2.430981e+06</td>\n",
       "      <td>2.381152e+06</td>\n",
       "      <td>...</td>\n",
       "      <td>2.430981e+06</td>\n",
       "      <td>2430981</td>\n",
       "      <td>2.430981e+06</td>\n",
       "      <td>2.430981e+06</td>\n",
       "      <td>1925991</td>\n",
       "      <td>2.430981e+06</td>\n",
       "      <td>1933502</td>\n",
       "      <td>2430981</td>\n",
       "      <td>2430981</td>\n",
       "      <td>2.430981e+06</td>\n",
       "    </tr>\n",
       "    <tr>\n",
       "      <th>unique</th>\n",
       "      <td>NaN</td>\n",
       "      <td>NaN</td>\n",
       "      <td>NaN</td>\n",
       "      <td>2430981</td>\n",
       "      <td>2342677</td>\n",
       "      <td>38</td>\n",
       "      <td>503975</td>\n",
       "      <td>NaN</td>\n",
       "      <td>NaN</td>\n",
       "      <td>NaN</td>\n",
       "      <td>...</td>\n",
       "      <td>NaN</td>\n",
       "      <td>131</td>\n",
       "      <td>NaN</td>\n",
       "      <td>NaN</td>\n",
       "      <td>18</td>\n",
       "      <td>NaN</td>\n",
       "      <td>744035</td>\n",
       "      <td>6</td>\n",
       "      <td>9</td>\n",
       "      <td>NaN</td>\n",
       "    </tr>\n",
       "    <tr>\n",
       "      <th>top</th>\n",
       "      <td>NaN</td>\n",
       "      <td>NaN</td>\n",
       "      <td>NaN</td>\n",
       "      <td>a35dcdf864d15f5fe72cd0eba0003670f8c4180e</td>\n",
       "      <td>5ac7ec84bb700b7a6bd1c57b1ae7c269af65850b</td>\n",
       "      <td>windows_ie</td>\n",
       "      <td>113.106.102.*</td>\n",
       "      <td>NaN</td>\n",
       "      <td>NaN</td>\n",
       "      <td>NaN</td>\n",
       "      <td>...</td>\n",
       "      <td>NaN</td>\n",
       "      <td>44966cc8da1ed40c95d59e863c8c75f0</td>\n",
       "      <td>NaN</td>\n",
       "      <td>NaN</td>\n",
       "      <td>bebefa5efe83beee17a3d245e7c5085b</td>\n",
       "      <td>NaN</td>\n",
       "      <td>10063</td>\n",
       "      <td>windows</td>\n",
       "      <td>ie</td>\n",
       "      <td>NaN</td>\n",
       "    </tr>\n",
       "    <tr>\n",
       "      <th>freq</th>\n",
       "      <td>NaN</td>\n",
       "      <td>NaN</td>\n",
       "      <td>NaN</td>\n",
       "      <td>1</td>\n",
       "      <td>13</td>\n",
       "      <td>1461665</td>\n",
       "      <td>3455</td>\n",
       "      <td>NaN</td>\n",
       "      <td>NaN</td>\n",
       "      <td>NaN</td>\n",
       "      <td>...</td>\n",
       "      <td>NaN</td>\n",
       "      <td>147811</td>\n",
       "      <td>NaN</td>\n",
       "      <td>NaN</td>\n",
       "      <td>492353</td>\n",
       "      <td>NaN</td>\n",
       "      <td>89991</td>\n",
       "      <td>2314896</td>\n",
       "      <td>1461700</td>\n",
       "      <td>NaN</td>\n",
       "    </tr>\n",
       "    <tr>\n",
       "      <th>mean</th>\n",
       "      <td>7.375623e-04</td>\n",
       "      <td>2.888556e+00</td>\n",
       "      <td>1.348925e+01</td>\n",
       "      <td>NaN</td>\n",
       "      <td>NaN</td>\n",
       "      <td>NaN</td>\n",
       "      <td>NaN</td>\n",
       "      <td>1.493833e+02</td>\n",
       "      <td>1.543295e+02</td>\n",
       "      <td>2.109685e+00</td>\n",
       "      <td>...</td>\n",
       "      <td>2.671783e+01</td>\n",
       "      <td>NaN</td>\n",
       "      <td>2.729620e+02</td>\n",
       "      <td>7.815142e+01</td>\n",
       "      <td>NaN</td>\n",
       "      <td>2.840736e+03</td>\n",
       "      <td>NaN</td>\n",
       "      <td>NaN</td>\n",
       "      <td>NaN</td>\n",
       "      <td>7.699868e+04</td>\n",
       "    </tr>\n",
       "    <tr>\n",
       "      <th>std</th>\n",
       "      <td>2.714809e-02</td>\n",
       "      <td>2.055223e+00</td>\n",
       "      <td>6.567105e+00</td>\n",
       "      <td>NaN</td>\n",
       "      <td>NaN</td>\n",
       "      <td>NaN</td>\n",
       "      <td>NaN</td>\n",
       "      <td>1.020631e+02</td>\n",
       "      <td>1.033093e+02</td>\n",
       "      <td>8.764370e-01</td>\n",
       "      <td>...</td>\n",
       "      <td>3.704444e+01</td>\n",
       "      <td>NaN</td>\n",
       "      <td>2.891153e+01</td>\n",
       "      <td>5.984636e+01</td>\n",
       "      <td>NaN</td>\n",
       "      <td>7.841990e+02</td>\n",
       "      <td>NaN</td>\n",
       "      <td>NaN</td>\n",
       "      <td>NaN</td>\n",
       "      <td>1.726495e+04</td>\n",
       "    </tr>\n",
       "    <tr>\n",
       "      <th>min</th>\n",
       "      <td>0.000000e+00</td>\n",
       "      <td>0.000000e+00</td>\n",
       "      <td>0.000000e+00</td>\n",
       "      <td>NaN</td>\n",
       "      <td>NaN</td>\n",
       "      <td>NaN</td>\n",
       "      <td>NaN</td>\n",
       "      <td>0.000000e+00</td>\n",
       "      <td>0.000000e+00</td>\n",
       "      <td>1.000000e+00</td>\n",
       "      <td>...</td>\n",
       "      <td>0.000000e+00</td>\n",
       "      <td>NaN</td>\n",
       "      <td>2.270000e+02</td>\n",
       "      <td>0.000000e+00</td>\n",
       "      <td>NaN</td>\n",
       "      <td>1.458000e+03</td>\n",
       "      <td>NaN</td>\n",
       "      <td>NaN</td>\n",
       "      <td>NaN</td>\n",
       "      <td>1.404000e+04</td>\n",
       "    </tr>\n",
       "    <tr>\n",
       "      <th>25%</th>\n",
       "      <td>0.000000e+00</td>\n",
       "      <td>1.000000e+00</td>\n",
       "      <td>1.000000e+01</td>\n",
       "      <td>NaN</td>\n",
       "      <td>NaN</td>\n",
       "      <td>NaN</td>\n",
       "      <td>NaN</td>\n",
       "      <td>7.900000e+01</td>\n",
       "      <td>7.900000e+01</td>\n",
       "      <td>1.000000e+00</td>\n",
       "      <td>...</td>\n",
       "      <td>0.000000e+00</td>\n",
       "      <td>NaN</td>\n",
       "      <td>2.410000e+02</td>\n",
       "      <td>3.300000e+01</td>\n",
       "      <td>NaN</td>\n",
       "      <td>2.259000e+03</td>\n",
       "      <td>NaN</td>\n",
       "      <td>NaN</td>\n",
       "      <td>NaN</td>\n",
       "      <td>6.552000e+04</td>\n",
       "    </tr>\n",
       "    <tr>\n",
       "      <th>50%</th>\n",
       "      <td>0.000000e+00</td>\n",
       "      <td>3.000000e+00</td>\n",
       "      <td>1.400000e+01</td>\n",
       "      <td>NaN</td>\n",
       "      <td>NaN</td>\n",
       "      <td>NaN</td>\n",
       "      <td>NaN</td>\n",
       "      <td>1.460000e+02</td>\n",
       "      <td>1.520000e+02</td>\n",
       "      <td>2.000000e+00</td>\n",
       "      <td>...</td>\n",
       "      <td>5.000000e+00</td>\n",
       "      <td>NaN</td>\n",
       "      <td>2.940000e+02</td>\n",
       "      <td>6.800000e+01</td>\n",
       "      <td>NaN</td>\n",
       "      <td>3.358000e+03</td>\n",
       "      <td>NaN</td>\n",
       "      <td>NaN</td>\n",
       "      <td>NaN</td>\n",
       "      <td>7.500000e+04</td>\n",
       "    </tr>\n",
       "    <tr>\n",
       "      <th>75%</th>\n",
       "      <td>0.000000e+00</td>\n",
       "      <td>5.000000e+00</td>\n",
       "      <td>1.900000e+01</td>\n",
       "      <td>NaN</td>\n",
       "      <td>NaN</td>\n",
       "      <td>NaN</td>\n",
       "      <td>NaN</td>\n",
       "      <td>2.160000e+02</td>\n",
       "      <td>2.220000e+02</td>\n",
       "      <td>3.000000e+00</td>\n",
       "      <td>...</td>\n",
       "      <td>5.000000e+01</td>\n",
       "      <td>NaN</td>\n",
       "      <td>3.000000e+02</td>\n",
       "      <td>9.900000e+01</td>\n",
       "      <td>NaN</td>\n",
       "      <td>3.427000e+03</td>\n",
       "      <td>NaN</td>\n",
       "      <td>NaN</td>\n",
       "      <td>NaN</td>\n",
       "      <td>9.000000e+04</td>\n",
       "    </tr>\n",
       "    <tr>\n",
       "      <th>max</th>\n",
       "      <td>1.000000e+00</td>\n",
       "      <td>6.000000e+00</td>\n",
       "      <td>2.300000e+01</td>\n",
       "      <td>NaN</td>\n",
       "      <td>NaN</td>\n",
       "      <td>NaN</td>\n",
       "      <td>NaN</td>\n",
       "      <td>3.950000e+02</td>\n",
       "      <td>3.990000e+02</td>\n",
       "      <td>4.000000e+00</td>\n",
       "      <td>...</td>\n",
       "      <td>3.000000e+02</td>\n",
       "      <td>NaN</td>\n",
       "      <td>3.000000e+02</td>\n",
       "      <td>3.000000e+02</td>\n",
       "      <td>NaN</td>\n",
       "      <td>3.476000e+03</td>\n",
       "      <td>NaN</td>\n",
       "      <td>NaN</td>\n",
       "      <td>NaN</td>\n",
       "      <td>1.800000e+05</td>\n",
       "    </tr>\n",
       "    <tr>\n",
       "      <th>unique_cnt</th>\n",
       "      <td>2.000000e+00</td>\n",
       "      <td>7.000000e+00</td>\n",
       "      <td>2.400000e+01</td>\n",
       "      <td>2430981</td>\n",
       "      <td>2342677</td>\n",
       "      <td>38</td>\n",
       "      <td>503975</td>\n",
       "      <td>3.500000e+01</td>\n",
       "      <td>3.700000e+02</td>\n",
       "      <td>4.000000e+00</td>\n",
       "      <td>...</td>\n",
       "      <td>2.860000e+02</td>\n",
       "      <td>131</td>\n",
       "      <td>8.000000e+00</td>\n",
       "      <td>3.010000e+02</td>\n",
       "      <td>18</td>\n",
       "      <td>9.000000e+00</td>\n",
       "      <td>744035</td>\n",
       "      <td>6</td>\n",
       "      <td>9</td>\n",
       "      <td>2.600000e+01</td>\n",
       "    </tr>\n",
       "    <tr>\n",
       "      <th>NaN</th>\n",
       "      <td>0.000000e+00</td>\n",
       "      <td>0.000000e+00</td>\n",
       "      <td>0.000000e+00</td>\n",
       "      <td>0</td>\n",
       "      <td>0</td>\n",
       "      <td>0</td>\n",
       "      <td>0</td>\n",
       "      <td>0.000000e+00</td>\n",
       "      <td>0.000000e+00</td>\n",
       "      <td>4.982900e+04</td>\n",
       "      <td>...</td>\n",
       "      <td>0.000000e+00</td>\n",
       "      <td>0</td>\n",
       "      <td>0.000000e+00</td>\n",
       "      <td>0.000000e+00</td>\n",
       "      <td>504990</td>\n",
       "      <td>0.000000e+00</td>\n",
       "      <td>497479</td>\n",
       "      <td>0</td>\n",
       "      <td>0</td>\n",
       "      <td>0.000000e+00</td>\n",
       "    </tr>\n",
       "  </tbody>\n",
       "</table>\n",
       "<p>13 rows × 28 columns</p>\n",
       "</div>"
      ],
      "text/plain": [
       "                   click       weekday          hour  \\\n",
       "count       2.430981e+06  2.430981e+06  2.430981e+06   \n",
       "unique               NaN           NaN           NaN   \n",
       "top                  NaN           NaN           NaN   \n",
       "freq                 NaN           NaN           NaN   \n",
       "mean        7.375623e-04  2.888556e+00  1.348925e+01   \n",
       "std         2.714809e-02  2.055223e+00  6.567105e+00   \n",
       "min         0.000000e+00  0.000000e+00  0.000000e+00   \n",
       "25%         0.000000e+00  1.000000e+00  1.000000e+01   \n",
       "50%         0.000000e+00  3.000000e+00  1.400000e+01   \n",
       "75%         0.000000e+00  5.000000e+00  1.900000e+01   \n",
       "max         1.000000e+00  6.000000e+00  2.300000e+01   \n",
       "unique_cnt  2.000000e+00  7.000000e+00  2.400000e+01   \n",
       "NaN         0.000000e+00  0.000000e+00  0.000000e+00   \n",
       "\n",
       "                                               bidid  \\\n",
       "count                                        2430981   \n",
       "unique                                       2430981   \n",
       "top         a35dcdf864d15f5fe72cd0eba0003670f8c4180e   \n",
       "freq                                               1   \n",
       "mean                                             NaN   \n",
       "std                                              NaN   \n",
       "min                                              NaN   \n",
       "25%                                              NaN   \n",
       "50%                                              NaN   \n",
       "75%                                              NaN   \n",
       "max                                              NaN   \n",
       "unique_cnt                                   2430981   \n",
       "NaN                                                0   \n",
       "\n",
       "                                              userid   useragent  \\\n",
       "count                                        2430981     2430981   \n",
       "unique                                       2342677          38   \n",
       "top         5ac7ec84bb700b7a6bd1c57b1ae7c269af65850b  windows_ie   \n",
       "freq                                              13     1461665   \n",
       "mean                                             NaN         NaN   \n",
       "std                                              NaN         NaN   \n",
       "min                                              NaN         NaN   \n",
       "25%                                              NaN         NaN   \n",
       "50%                                              NaN         NaN   \n",
       "75%                                              NaN         NaN   \n",
       "max                                              NaN         NaN   \n",
       "unique_cnt                                   2342677          38   \n",
       "NaN                                                0           0   \n",
       "\n",
       "                       IP        region          city    adexchange  ...  \\\n",
       "count             2430981  2.430981e+06  2.430981e+06  2.381152e+06  ...   \n",
       "unique             503975           NaN           NaN           NaN  ...   \n",
       "top         113.106.102.*           NaN           NaN           NaN  ...   \n",
       "freq                 3455           NaN           NaN           NaN  ...   \n",
       "mean                  NaN  1.493833e+02  1.543295e+02  2.109685e+00  ...   \n",
       "std                   NaN  1.020631e+02  1.033093e+02  8.764370e-01  ...   \n",
       "min                   NaN  0.000000e+00  0.000000e+00  1.000000e+00  ...   \n",
       "25%                   NaN  7.900000e+01  7.900000e+01  1.000000e+00  ...   \n",
       "50%                   NaN  1.460000e+02  1.520000e+02  2.000000e+00  ...   \n",
       "75%                   NaN  2.160000e+02  2.220000e+02  3.000000e+00  ...   \n",
       "max                   NaN  3.950000e+02  3.990000e+02  4.000000e+00  ...   \n",
       "unique_cnt         503975  3.500000e+01  3.700000e+02  4.000000e+00  ...   \n",
       "NaN                     0  0.000000e+00  0.000000e+00  4.982900e+04  ...   \n",
       "\n",
       "               slotprice                          creative      bidprice  \\\n",
       "count       2.430981e+06                           2430981  2.430981e+06   \n",
       "unique               NaN                               131           NaN   \n",
       "top                  NaN  44966cc8da1ed40c95d59e863c8c75f0           NaN   \n",
       "freq                 NaN                            147811           NaN   \n",
       "mean        2.671783e+01                               NaN  2.729620e+02   \n",
       "std         3.704444e+01                               NaN  2.891153e+01   \n",
       "min         0.000000e+00                               NaN  2.270000e+02   \n",
       "25%         0.000000e+00                               NaN  2.410000e+02   \n",
       "50%         5.000000e+00                               NaN  2.940000e+02   \n",
       "75%         5.000000e+01                               NaN  3.000000e+02   \n",
       "max         3.000000e+02                               NaN  3.000000e+02   \n",
       "unique_cnt  2.860000e+02                               131  8.000000e+00   \n",
       "NaN         0.000000e+00                                 0  0.000000e+00   \n",
       "\n",
       "                payprice                           keypage    advertiser  \\\n",
       "count       2.430981e+06                           1925991  2.430981e+06   \n",
       "unique               NaN                                18           NaN   \n",
       "top                  NaN  bebefa5efe83beee17a3d245e7c5085b           NaN   \n",
       "freq                 NaN                            492353           NaN   \n",
       "mean        7.815142e+01                               NaN  2.840736e+03   \n",
       "std         5.984636e+01                               NaN  7.841990e+02   \n",
       "min         0.000000e+00                               NaN  1.458000e+03   \n",
       "25%         3.300000e+01                               NaN  2.259000e+03   \n",
       "50%         6.800000e+01                               NaN  3.358000e+03   \n",
       "75%         9.900000e+01                               NaN  3.427000e+03   \n",
       "max         3.000000e+02                               NaN  3.476000e+03   \n",
       "unique_cnt  3.010000e+02                                18  9.000000e+00   \n",
       "NaN         0.000000e+00                            504990  0.000000e+00   \n",
       "\n",
       "            usertag       OS  browser      slotsize  \n",
       "count       1933502  2430981  2430981  2.430981e+06  \n",
       "unique       744035        6        9           NaN  \n",
       "top           10063  windows       ie           NaN  \n",
       "freq          89991  2314896  1461700           NaN  \n",
       "mean            NaN      NaN      NaN  7.699868e+04  \n",
       "std             NaN      NaN      NaN  1.726495e+04  \n",
       "min             NaN      NaN      NaN  1.404000e+04  \n",
       "25%             NaN      NaN      NaN  6.552000e+04  \n",
       "50%             NaN      NaN      NaN  7.500000e+04  \n",
       "75%             NaN      NaN      NaN  9.000000e+04  \n",
       "max             NaN      NaN      NaN  1.800000e+05  \n",
       "unique_cnt   744035        6        9  2.600000e+01  \n",
       "NaN          497479        0        0  0.000000e+00  \n",
       "\n",
       "[13 rows x 28 columns]"
      ]
     },
     "execution_count": 36,
     "metadata": {},
     "output_type": "execute_result"
    }
   ],
   "source": [
    "# Descriptive statistics\n",
    "dfDesc = df.describe(include='all')\n",
    "dfUnqCnt = df.nunique().to_frame().transpose().rename({0: 'unique_cnt'}, axis='index')\n",
    "dfNaN = df.isna().sum().to_frame().transpose().rename({0: 'NaN'}, axis='index')\n",
    "frames = [dfDesc, dfUnqCnt, dfNaN]\n",
    "dfDesc = pd.concat(frames)\n",
    "\n",
    "if OUTPUT_DATA: dfDesc.to_csv(os.path.join(outputFolderPath, 'descStats.csv'))\n",
    "dfDesc #show"
   ]
  },
  {
   "cell_type": "markdown",
   "metadata": {},
   "source": [
    "# CTR\n",
    "#### (the mean would have been equivalent in this dataset)"
   ]
  },
  {
   "cell_type": "code",
   "execution_count": 37,
   "metadata": {
    "scrolled": true
   },
   "outputs": [
    {
     "data": {
      "image/png": "[encoded data removed]",
      "text/plain": [
       "<Figure size 432x288 with 1 Axes>"
      ]
     },
     "metadata": {
      "needs_background": "light"
     },
     "output_type": "display_data"
    }
   ],
   "source": [
    "# CTR by weekday\n",
    "df.groupby('weekday')['click'].apply(lambda x: x.sum() / x.count()).plot(kind='bar')\n",
    "plt.ylabel('CTR');\n",
    "if OUTPUT_DATA: plt.savefig(os.path.join(outputFolderPath, 'CTR_by_weekday.png'));"
   ]
  },
  {
   "cell_type": "code",
   "execution_count": 38,
   "metadata": {},
   "outputs": [
    {
     "data": {
      "image/png": "[encoded data removed]",
      "text/plain": [
       "<Figure size 432x288 with 1 Axes>"
      ]
     },
     "metadata": {
      "needs_background": "light"
     },
     "output_type": "display_data"
    }
   ],
   "source": [
    "# CTR by hour\n",
    "df.groupby('hour')['click'].apply(lambda x: x.sum() / x.count()).plot(kind='bar')\n",
    "plt.ylabel('CTR');\n",
    "if OUTPUT_DATA: plt.savefig(os.path.join(outputFolderPath, 'CTR_by_hour.png'));"
   ]
  },
  {
   "cell_type": "code",
   "execution_count": 39,
   "metadata": {},
   "outputs": [
    {
     "data": {
      "image/png": "[encoded data removed]",
      "text/plain": [
       "<Figure size 432x288 with 1 Axes>"
      ]
     },
     "metadata": {
      "needs_background": "light"
     },
     "output_type": "display_data"
    }
   ],
   "source": [
    "# CTR by OS\n",
    "df.groupby('OS')['click'].apply(lambda x: x.sum() / x.count()).plot(kind='bar')\n",
    "plt.ylabel('CTR');\n",
    "if OUTPUT_DATA: plt.savefig(os.path.join(outputFolderPath, 'CTR_by_OS.png'));"
   ]
  },
  {
   "cell_type": "code",
   "execution_count": 40,
   "metadata": {},
   "outputs": [
    {
     "data": {
      "image/png": "[encoded data removed]",
      "text/plain": [
       "<Figure size 432x288 with 1 Axes>"
      ]
     },
     "metadata": {
      "needs_background": "light"
     },
     "output_type": "display_data"
    }
   ],
   "source": [
    "# CTR by Browser\n",
    "df.groupby('browser')['click'].apply(lambda x: x.sum() / x.count()).plot(kind='bar')\n",
    "plt.ylabel('CTR');\n",
    "if OUTPUT_DATA: plt.savefig(os.path.join(outputFolderPath, 'CTR_by_browser.png'));"
   ]
  },
  {
   "cell_type": "code",
   "execution_count": 41,
   "metadata": {},
   "outputs": [
    {
     "data": {
      "image/png": "[encoded data removed]",
      "text/plain": [
       "<Figure size 432x288 with 1 Axes>"
      ]
     },
     "metadata": {
      "needs_background": "light"
     },
     "output_type": "display_data"
    }
   ],
   "source": [
    "# CTR by region\n",
    "df.groupby('region')['click'].apply(lambda x: x.sum() / x.count()).plot(kind='bar')\n",
    "plt.ylabel('CTR');\n",
    "if OUTPUT_DATA: plt.savefig(os.path.join(outputFolderPath, 'CTR_by_region.png'));"
   ]
  },
  {
   "cell_type": "code",
   "execution_count": 42,
   "metadata": {},
   "outputs": [
    {
     "data": {
      "image/png": "[encoded data removed]",
      "text/plain": [
       "<Figure size 432x288 with 1 Axes>"
      ]
     },
     "metadata": {
      "needs_background": "light"
     },
     "output_type": "display_data"
    }
   ],
   "source": [
    "# CTR by adexchange\n",
    "df.groupby('adexchange')['click'].apply(lambda x: x.sum() / x.count()).plot(kind='bar')\n",
    "plt.ylabel('CTR');\n",
    "if OUTPUT_DATA: plt.savefig(os.path.join(outputFolderPath, 'CTR_by_adexchange.png'));"
   ]
  },
  {
   "cell_type": "code",
   "execution_count": 43,
   "metadata": {},
   "outputs": [
    {
     "data": {
      "image/png": "[encoded data removed]",
      "text/plain": [
       "<Figure size 432x288 with 1 Axes>"
      ]
     },
     "metadata": {
      "needs_background": "light"
     },
     "output_type": "display_data"
    }
   ],
   "source": [
    "# CTR by slotformat\n",
    "df.groupby('slotformat')['click'].apply(lambda x: x.sum() / x.count()).plot(kind='bar')\n",
    "plt.ylabel('CTR');\n",
    "if OUTPUT_DATA: plt.savefig(os.path.join(outputFolderPath, 'CTR_by_slotformat.png'));"
   ]
  },
  {
   "cell_type": "code",
   "execution_count": 44,
   "metadata": {},
   "outputs": [
    {
     "data": {
      "image/png": "[encoded data removed]",
      "text/plain": [
       "<Figure size 432x288 with 1 Axes>"
      ]
     },
     "metadata": {
      "needs_background": "light"
     },
     "output_type": "display_data"
    }
   ],
   "source": [
    "# CTR by slotsize\n",
    "df.groupby('slotsize')['click'].apply(lambda x: x.sum() / x.count()).plot(kind='bar')\n",
    "plt.ylabel('CTR');\n",
    "if OUTPUT_DATA: plt.savefig(os.path.join(outputFolderPath, 'CTR_by_slotsize.png'));"
   ]
  },
  {
   "cell_type": "code",
   "execution_count": 45,
   "metadata": {},
   "outputs": [
    {
     "data": {
      "image/png": "[encoded data removed]",
      "text/plain": [
       "<Figure size 432x288 with 1 Axes>"
      ]
     },
     "metadata": {
      "needs_background": "light"
     },
     "output_type": "display_data"
    }
   ],
   "source": [
    "# CTR by advertiser\n",
    "df.groupby('advertiser')['click'].apply(lambda x: x.sum() / x.count()).plot(kind='bar')\n",
    "plt.ylabel('CTR');\n",
    "if OUTPUT_DATA: plt.savefig(os.path.join(outputFolderPath, 'CTR_by_advertiser.png'));"
   ]
  },
  {
   "cell_type": "code",
   "execution_count": 46,
   "metadata": {},
   "outputs": [
    {
     "data": {
      "image/png": "[encoded data removed]",
      "text/plain": [
       "<Figure size 720x432 with 8 Axes>"
      ]
     },
     "metadata": {
      "needs_background": "light"
     },
     "output_type": "display_data"
    }
   ],
   "source": [
    "# Multi-figure version\n",
    "# TODO requires some work to format\n",
    "fig, axes = plt.subplots(2, 4, figsize=(10,6))\n",
    "df.groupby('weekday')['click'].apply(lambda x: x.sum() / x.count()).plot(kind='bar', ax=axes[0, 0])\n",
    "df.groupby('hour')['click'].apply(lambda x: x.sum() / x.count()).plot(kind='bar', ax=axes[0, 1])\n",
    "df.groupby('OS')['click'].apply(lambda x: x.sum() / x.count()).plot(kind='bar', ax=axes[0, 2])\n",
    "df.groupby('browser')['click'].apply(lambda x: x.sum() / x.count()).plot(kind='bar', ax=axes[0, 3])\n",
    "df.groupby('region')['click'].apply(lambda x: x.sum() / x.count()).plot(kind='bar', ax=axes[1, 0])\n",
    "df.groupby('adexchange')['click'].apply(lambda x: x.sum() / x.count()).plot(kind='bar', ax=axes[1, 1])\n",
    "df.groupby('slotformat')['click'].apply(lambda x: x.sum() / x.count()).plot(kind='bar', ax=axes[1, 2])\n",
    "df.groupby('advertiser')['click'].apply(lambda x: x.sum() / x.count()).plot(kind='bar', ax=axes[1, 3])\n",
    "if OUTPUT_DATA: plt.savefig(os.path.join(outputFolderPath, 'CTR_multi.png'));"
   ]
  },
  {
   "cell_type": "code",
   "execution_count": 6,
   "metadata": {},
   "outputs": [],
   "source": [
    "bins = pd.cut(df['payprice'], 20)"
   ]
  },
  {
   "cell_type": "code",
   "execution_count": 21,
   "metadata": {},
   "outputs": [
    {
     "name": "stderr",
     "output_type": "stream",
     "text": [
      "C:\\Users\\matth\\Anaconda2\\envs\\py3\\lib\\site-packages\\ipykernel_launcher.py:1: FutureWarning: using a dict on a Series for aggregation\n",
      "is deprecated and will be removed in a future version\n",
      "  \"\"\"Entry point for launching an IPython kernel.\n"
     ]
    }
   ],
   "source": [
    "df2 = df.groupby(bins)['payprice'].agg({'click': ['count', 'sum'], 'payprice': ['sum']})"
   ]
  },
  {
   "cell_type": "code",
   "execution_count": 22,
   "metadata": {},
   "outputs": [
    {
     "data": {
      "text/html": [
       "<div>\n",
       "<style scoped>\n",
       "    .dataframe tbody tr th:only-of-type {\n",
       "        vertical-align: middle;\n",
       "    }\n",
       "\n",
       "    .dataframe tbody tr th {\n",
       "        vertical-align: top;\n",
       "    }\n",
       "\n",
       "    .dataframe thead tr th {\n",
       "        text-align: left;\n",
       "    }\n",
       "\n",
       "    .dataframe thead tr:last-of-type th {\n",
       "        text-align: right;\n",
       "    }\n",
       "</style>\n",
       "<table border=\"1\" class=\"dataframe\">\n",
       "  <thead>\n",
       "    <tr>\n",
       "      <th></th>\n",
       "      <th colspan=\"2\" halign=\"left\">click</th>\n",
       "      <th>payprice</th>\n",
       "    </tr>\n",
       "    <tr>\n",
       "      <th></th>\n",
       "      <th>count</th>\n",
       "      <th>sum</th>\n",
       "      <th>sum</th>\n",
       "    </tr>\n",
       "    <tr>\n",
       "      <th>payprice</th>\n",
       "      <th></th>\n",
       "      <th></th>\n",
       "      <th></th>\n",
       "    </tr>\n",
       "  </thead>\n",
       "  <tbody>\n",
       "    <tr>\n",
       "      <th>(-0.3, 15.0]</th>\n",
       "      <td>198827</td>\n",
       "      <td>1709535</td>\n",
       "      <td>1709535</td>\n",
       "    </tr>\n",
       "    <tr>\n",
       "      <th>(15.0, 30.0]</th>\n",
       "      <td>344987</td>\n",
       "      <td>7530446</td>\n",
       "      <td>7530446</td>\n",
       "    </tr>\n",
       "    <tr>\n",
       "      <th>(30.0, 45.0]</th>\n",
       "      <td>222242</td>\n",
       "      <td>8236038</td>\n",
       "      <td>8236038</td>\n",
       "    </tr>\n",
       "    <tr>\n",
       "      <th>(45.0, 60.0]</th>\n",
       "      <td>362449</td>\n",
       "      <td>19030279</td>\n",
       "      <td>19030279</td>\n",
       "    </tr>\n",
       "    <tr>\n",
       "      <th>(60.0, 75.0]</th>\n",
       "      <td>312984</td>\n",
       "      <td>21612195</td>\n",
       "      <td>21612195</td>\n",
       "    </tr>\n",
       "    <tr>\n",
       "      <th>(75.0, 90.0]</th>\n",
       "      <td>327711</td>\n",
       "      <td>26762033</td>\n",
       "      <td>26762033</td>\n",
       "    </tr>\n",
       "    <tr>\n",
       "      <th>(90.0, 105.0]</th>\n",
       "      <td>107834</td>\n",
       "      <td>10557352</td>\n",
       "      <td>10557352</td>\n",
       "    </tr>\n",
       "    <tr>\n",
       "      <th>(105.0, 120.0]</th>\n",
       "      <td>79510</td>\n",
       "      <td>8985639</td>\n",
       "      <td>8985639</td>\n",
       "    </tr>\n",
       "    <tr>\n",
       "      <th>(120.0, 135.0]</th>\n",
       "      <td>71257</td>\n",
       "      <td>9093118</td>\n",
       "      <td>9093118</td>\n",
       "    </tr>\n",
       "    <tr>\n",
       "      <th>(135.0, 150.0]</th>\n",
       "      <td>73284</td>\n",
       "      <td>10546449</td>\n",
       "      <td>10546449</td>\n",
       "    </tr>\n",
       "    <tr>\n",
       "      <th>(150.0, 165.0]</th>\n",
       "      <td>69503</td>\n",
       "      <td>10979949</td>\n",
       "      <td>10979949</td>\n",
       "    </tr>\n",
       "    <tr>\n",
       "      <th>(165.0, 180.0]</th>\n",
       "      <td>63860</td>\n",
       "      <td>11066899</td>\n",
       "      <td>11066899</td>\n",
       "    </tr>\n",
       "    <tr>\n",
       "      <th>(180.0, 195.0]</th>\n",
       "      <td>34491</td>\n",
       "      <td>6469067</td>\n",
       "      <td>6469067</td>\n",
       "    </tr>\n",
       "    <tr>\n",
       "      <th>(195.0, 210.0]</th>\n",
       "      <td>47314</td>\n",
       "      <td>9584055</td>\n",
       "      <td>9584055</td>\n",
       "    </tr>\n",
       "    <tr>\n",
       "      <th>(210.0, 225.0]</th>\n",
       "      <td>41058</td>\n",
       "      <td>8952024</td>\n",
       "      <td>8952024</td>\n",
       "    </tr>\n",
       "    <tr>\n",
       "      <th>(225.0, 240.0]</th>\n",
       "      <td>24498</td>\n",
       "      <td>5697103</td>\n",
       "      <td>5697103</td>\n",
       "    </tr>\n",
       "    <tr>\n",
       "      <th>(240.0, 255.0]</th>\n",
       "      <td>14454</td>\n",
       "      <td>3588453</td>\n",
       "      <td>3588453</td>\n",
       "    </tr>\n",
       "    <tr>\n",
       "      <th>(255.0, 270.0]</th>\n",
       "      <td>12821</td>\n",
       "      <td>3364132</td>\n",
       "      <td>3364132</td>\n",
       "    </tr>\n",
       "    <tr>\n",
       "      <th>(270.0, 285.0]</th>\n",
       "      <td>13513</td>\n",
       "      <td>3766182</td>\n",
       "      <td>3766182</td>\n",
       "    </tr>\n",
       "    <tr>\n",
       "      <th>(285.0, 300.0]</th>\n",
       "      <td>8384</td>\n",
       "      <td>2453660</td>\n",
       "      <td>2453660</td>\n",
       "    </tr>\n",
       "  </tbody>\n",
       "</table>\n",
       "</div>"
      ],
      "text/plain": [
       "                 click            payprice\n",
       "                 count       sum       sum\n",
       "payprice                                  \n",
       "(-0.3, 15.0]    198827   1709535   1709535\n",
       "(15.0, 30.0]    344987   7530446   7530446\n",
       "(30.0, 45.0]    222242   8236038   8236038\n",
       "(45.0, 60.0]    362449  19030279  19030279\n",
       "(60.0, 75.0]    312984  21612195  21612195\n",
       "(75.0, 90.0]    327711  26762033  26762033\n",
       "(90.0, 105.0]   107834  10557352  10557352\n",
       "(105.0, 120.0]   79510   8985639   8985639\n",
       "(120.0, 135.0]   71257   9093118   9093118\n",
       "(135.0, 150.0]   73284  10546449  10546449\n",
       "(150.0, 165.0]   69503  10979949  10979949\n",
       "(165.0, 180.0]   63860  11066899  11066899\n",
       "(180.0, 195.0]   34491   6469067   6469067\n",
       "(195.0, 210.0]   47314   9584055   9584055\n",
       "(210.0, 225.0]   41058   8952024   8952024\n",
       "(225.0, 240.0]   24498   5697103   5697103\n",
       "(240.0, 255.0]   14454   3588453   3588453\n",
       "(255.0, 270.0]   12821   3364132   3364132\n",
       "(270.0, 285.0]   13513   3766182   3766182\n",
       "(285.0, 300.0]    8384   2453660   2453660"
      ]
     },
     "execution_count": 22,
     "metadata": {},
     "output_type": "execute_result"
    }
   ],
   "source": [
    "df2\n",
    "# TODO how to plot?\n",
    "# TODO normalise by the price i.e. what's the cost per click\n",
    "# TODO sum payprice where click = 1 (or adjust payprice sum based on % clicks in that bin)\n",
    "\n",
    "# WHY IS SUM OF CLICK GREATER THAN COUNT ???"
   ]
  },
  {
   "cell_type": "code",
   "execution_count": 34,
   "metadata": {},
   "outputs": [],
   "source": [
    "df2['paidForWin'] = df2['payprice']['sum'] * df2['click']['count'] / df2['click']['sum']"
   ]
  },
  {
   "cell_type": "code",
   "execution_count": 35,
   "metadata": {},
   "outputs": [],
   "source": [
    "df2['costPerWonClick'] = df2['paidForWin'] / df2['click']['count']"
   ]
  },
  {
   "cell_type": "code",
   "execution_count": 36,
   "metadata": {},
   "outputs": [
    {
     "data": {
      "text/html": [
       "<div>\n",
       "<style scoped>\n",
       "    .dataframe tbody tr th:only-of-type {\n",
       "        vertical-align: middle;\n",
       "    }\n",
       "\n",
       "    .dataframe tbody tr th {\n",
       "        vertical-align: top;\n",
       "    }\n",
       "\n",
       "    .dataframe thead tr th {\n",
       "        text-align: left;\n",
       "    }\n",
       "\n",
       "    .dataframe thead tr:last-of-type th {\n",
       "        text-align: right;\n",
       "    }\n",
       "</style>\n",
       "<table border=\"1\" class=\"dataframe\">\n",
       "  <thead>\n",
       "    <tr>\n",
       "      <th></th>\n",
       "      <th colspan=\"2\" halign=\"left\">click</th>\n",
       "      <th>payprice</th>\n",
       "      <th>tst</th>\n",
       "      <th>paidForWin</th>\n",
       "      <th>costPerWonClick</th>\n",
       "    </tr>\n",
       "    <tr>\n",
       "      <th></th>\n",
       "      <th>count</th>\n",
       "      <th>sum</th>\n",
       "      <th>sum</th>\n",
       "      <th></th>\n",
       "      <th></th>\n",
       "      <th></th>\n",
       "    </tr>\n",
       "    <tr>\n",
       "      <th>payprice</th>\n",
       "      <th></th>\n",
       "      <th></th>\n",
       "      <th></th>\n",
       "      <th></th>\n",
       "      <th></th>\n",
       "      <th></th>\n",
       "    </tr>\n",
       "  </thead>\n",
       "  <tbody>\n",
       "    <tr>\n",
       "      <th>(-0.3, 15.0]</th>\n",
       "      <td>198827</td>\n",
       "      <td>1709535</td>\n",
       "      <td>1709535</td>\n",
       "      <td>198827.0</td>\n",
       "      <td>198827.0</td>\n",
       "      <td>1.0</td>\n",
       "    </tr>\n",
       "    <tr>\n",
       "      <th>(15.0, 30.0]</th>\n",
       "      <td>344987</td>\n",
       "      <td>7530446</td>\n",
       "      <td>7530446</td>\n",
       "      <td>344987.0</td>\n",
       "      <td>344987.0</td>\n",
       "      <td>1.0</td>\n",
       "    </tr>\n",
       "    <tr>\n",
       "      <th>(30.0, 45.0]</th>\n",
       "      <td>222242</td>\n",
       "      <td>8236038</td>\n",
       "      <td>8236038</td>\n",
       "      <td>222242.0</td>\n",
       "      <td>222242.0</td>\n",
       "      <td>1.0</td>\n",
       "    </tr>\n",
       "    <tr>\n",
       "      <th>(45.0, 60.0]</th>\n",
       "      <td>362449</td>\n",
       "      <td>19030279</td>\n",
       "      <td>19030279</td>\n",
       "      <td>362449.0</td>\n",
       "      <td>362449.0</td>\n",
       "      <td>1.0</td>\n",
       "    </tr>\n",
       "    <tr>\n",
       "      <th>(60.0, 75.0]</th>\n",
       "      <td>312984</td>\n",
       "      <td>21612195</td>\n",
       "      <td>21612195</td>\n",
       "      <td>312984.0</td>\n",
       "      <td>312984.0</td>\n",
       "      <td>1.0</td>\n",
       "    </tr>\n",
       "    <tr>\n",
       "      <th>(75.0, 90.0]</th>\n",
       "      <td>327711</td>\n",
       "      <td>26762033</td>\n",
       "      <td>26762033</td>\n",
       "      <td>327711.0</td>\n",
       "      <td>327711.0</td>\n",
       "      <td>1.0</td>\n",
       "    </tr>\n",
       "    <tr>\n",
       "      <th>(90.0, 105.0]</th>\n",
       "      <td>107834</td>\n",
       "      <td>10557352</td>\n",
       "      <td>10557352</td>\n",
       "      <td>107834.0</td>\n",
       "      <td>107834.0</td>\n",
       "      <td>1.0</td>\n",
       "    </tr>\n",
       "    <tr>\n",
       "      <th>(105.0, 120.0]</th>\n",
       "      <td>79510</td>\n",
       "      <td>8985639</td>\n",
       "      <td>8985639</td>\n",
       "      <td>79510.0</td>\n",
       "      <td>79510.0</td>\n",
       "      <td>1.0</td>\n",
       "    </tr>\n",
       "    <tr>\n",
       "      <th>(120.0, 135.0]</th>\n",
       "      <td>71257</td>\n",
       "      <td>9093118</td>\n",
       "      <td>9093118</td>\n",
       "      <td>71257.0</td>\n",
       "      <td>71257.0</td>\n",
       "      <td>1.0</td>\n",
       "    </tr>\n",
       "    <tr>\n",
       "      <th>(135.0, 150.0]</th>\n",
       "      <td>73284</td>\n",
       "      <td>10546449</td>\n",
       "      <td>10546449</td>\n",
       "      <td>73284.0</td>\n",
       "      <td>73284.0</td>\n",
       "      <td>1.0</td>\n",
       "    </tr>\n",
       "    <tr>\n",
       "      <th>(150.0, 165.0]</th>\n",
       "      <td>69503</td>\n",
       "      <td>10979949</td>\n",
       "      <td>10979949</td>\n",
       "      <td>69503.0</td>\n",
       "      <td>69503.0</td>\n",
       "      <td>1.0</td>\n",
       "    </tr>\n",
       "    <tr>\n",
       "      <th>(165.0, 180.0]</th>\n",
       "      <td>63860</td>\n",
       "      <td>11066899</td>\n",
       "      <td>11066899</td>\n",
       "      <td>63860.0</td>\n",
       "      <td>63860.0</td>\n",
       "      <td>1.0</td>\n",
       "    </tr>\n",
       "    <tr>\n",
       "      <th>(180.0, 195.0]</th>\n",
       "      <td>34491</td>\n",
       "      <td>6469067</td>\n",
       "      <td>6469067</td>\n",
       "      <td>34491.0</td>\n",
       "      <td>34491.0</td>\n",
       "      <td>1.0</td>\n",
       "    </tr>\n",
       "    <tr>\n",
       "      <th>(195.0, 210.0]</th>\n",
       "      <td>47314</td>\n",
       "      <td>9584055</td>\n",
       "      <td>9584055</td>\n",
       "      <td>47314.0</td>\n",
       "      <td>47314.0</td>\n",
       "      <td>1.0</td>\n",
       "    </tr>\n",
       "    <tr>\n",
       "      <th>(210.0, 225.0]</th>\n",
       "      <td>41058</td>\n",
       "      <td>8952024</td>\n",
       "      <td>8952024</td>\n",
       "      <td>41058.0</td>\n",
       "      <td>41058.0</td>\n",
       "      <td>1.0</td>\n",
       "    </tr>\n",
       "    <tr>\n",
       "      <th>(225.0, 240.0]</th>\n",
       "      <td>24498</td>\n",
       "      <td>5697103</td>\n",
       "      <td>5697103</td>\n",
       "      <td>24498.0</td>\n",
       "      <td>24498.0</td>\n",
       "      <td>1.0</td>\n",
       "    </tr>\n",
       "    <tr>\n",
       "      <th>(240.0, 255.0]</th>\n",
       "      <td>14454</td>\n",
       "      <td>3588453</td>\n",
       "      <td>3588453</td>\n",
       "      <td>14454.0</td>\n",
       "      <td>14454.0</td>\n",
       "      <td>1.0</td>\n",
       "    </tr>\n",
       "    <tr>\n",
       "      <th>(255.0, 270.0]</th>\n",
       "      <td>12821</td>\n",
       "      <td>3364132</td>\n",
       "      <td>3364132</td>\n",
       "      <td>12821.0</td>\n",
       "      <td>12821.0</td>\n",
       "      <td>1.0</td>\n",
       "    </tr>\n",
       "    <tr>\n",
       "      <th>(270.0, 285.0]</th>\n",
       "      <td>13513</td>\n",
       "      <td>3766182</td>\n",
       "      <td>3766182</td>\n",
       "      <td>13513.0</td>\n",
       "      <td>13513.0</td>\n",
       "      <td>1.0</td>\n",
       "    </tr>\n",
       "    <tr>\n",
       "      <th>(285.0, 300.0]</th>\n",
       "      <td>8384</td>\n",
       "      <td>2453660</td>\n",
       "      <td>2453660</td>\n",
       "      <td>8384.0</td>\n",
       "      <td>8384.0</td>\n",
       "      <td>1.0</td>\n",
       "    </tr>\n",
       "  </tbody>\n",
       "</table>\n",
       "</div>"
      ],
      "text/plain": [
       "                 click            payprice       tst paidForWin  \\\n",
       "                 count       sum       sum                        \n",
       "payprice                                                          \n",
       "(-0.3, 15.0]    198827   1709535   1709535  198827.0   198827.0   \n",
       "(15.0, 30.0]    344987   7530446   7530446  344987.0   344987.0   \n",
       "(30.0, 45.0]    222242   8236038   8236038  222242.0   222242.0   \n",
       "(45.0, 60.0]    362449  19030279  19030279  362449.0   362449.0   \n",
       "(60.0, 75.0]    312984  21612195  21612195  312984.0   312984.0   \n",
       "(75.0, 90.0]    327711  26762033  26762033  327711.0   327711.0   \n",
       "(90.0, 105.0]   107834  10557352  10557352  107834.0   107834.0   \n",
       "(105.0, 120.0]   79510   8985639   8985639   79510.0    79510.0   \n",
       "(120.0, 135.0]   71257   9093118   9093118   71257.0    71257.0   \n",
       "(135.0, 150.0]   73284  10546449  10546449   73284.0    73284.0   \n",
       "(150.0, 165.0]   69503  10979949  10979949   69503.0    69503.0   \n",
       "(165.0, 180.0]   63860  11066899  11066899   63860.0    63860.0   \n",
       "(180.0, 195.0]   34491   6469067   6469067   34491.0    34491.0   \n",
       "(195.0, 210.0]   47314   9584055   9584055   47314.0    47314.0   \n",
       "(210.0, 225.0]   41058   8952024   8952024   41058.0    41058.0   \n",
       "(225.0, 240.0]   24498   5697103   5697103   24498.0    24498.0   \n",
       "(240.0, 255.0]   14454   3588453   3588453   14454.0    14454.0   \n",
       "(255.0, 270.0]   12821   3364132   3364132   12821.0    12821.0   \n",
       "(270.0, 285.0]   13513   3766182   3766182   13513.0    13513.0   \n",
       "(285.0, 300.0]    8384   2453660   2453660    8384.0     8384.0   \n",
       "\n",
       "               costPerWonClick  \n",
       "                                \n",
       "payprice                        \n",
       "(-0.3, 15.0]               1.0  \n",
       "(15.0, 30.0]               1.0  \n",
       "(30.0, 45.0]               1.0  \n",
       "(45.0, 60.0]               1.0  \n",
       "(60.0, 75.0]               1.0  \n",
       "(75.0, 90.0]               1.0  \n",
       "(90.0, 105.0]              1.0  \n",
       "(105.0, 120.0]             1.0  \n",
       "(120.0, 135.0]             1.0  \n",
       "(135.0, 150.0]             1.0  \n",
       "(150.0, 165.0]             1.0  \n",
       "(165.0, 180.0]             1.0  \n",
       "(180.0, 195.0]             1.0  \n",
       "(195.0, 210.0]             1.0  \n",
       "(210.0, 225.0]             1.0  \n",
       "(225.0, 240.0]             1.0  \n",
       "(240.0, 255.0]             1.0  \n",
       "(255.0, 270.0]             1.0  \n",
       "(270.0, 285.0]             1.0  \n",
       "(285.0, 300.0]             1.0  "
      ]
     },
     "execution_count": 36,
     "metadata": {},
     "output_type": "execute_result"
    }
   ],
   "source": [
    "df2"
   ]
  },
  {
   "cell_type": "code",
   "execution_count": 5,
   "metadata": {},
   "outputs": [
    {
     "data": {
      "text/plain": [
       "<matplotlib.axes._subplots.AxesSubplot at 0x1830bacc7b8>"
      ]
     },
     "execution_count": 5,
     "metadata": {},
     "output_type": "execute_result"
    },
    {
     "data": {
      "image/png": "[encoded data removed]",
      "text/plain": [
       "<Figure size 432x288 with 1 Axes>"
      ]
     },
     "metadata": {
      "needs_background": "light"
     },
     "output_type": "display_data"
    }
   ],
   "source": [
    "# TODO bucket price\n",
    "df.groupby('payprice')['click'].apply(np.mean).plot(kind='bar')"
   ]
  },
  {
   "cell_type": "markdown",
   "metadata": {},
   "source": [
    "# average cost-per-mille (CPM)"
   ]
  },
  {
   "cell_type": "code",
   "execution_count": 47,
   "metadata": {},
   "outputs": [
    {
     "data": {
      "image/png": "[encoded data removed]",
      "text/plain": [
       "<Figure size 432x288 with 1 Axes>"
      ]
     },
     "metadata": {
      "needs_background": "light"
     },
     "output_type": "display_data"
    }
   ],
   "source": [
    "df.groupby('weekday')['payprice'].mean().plot(kind='bar')\n",
    "plt.ylabel('ave. CPM');\n",
    "if OUTPUT_DATA: plt.savefig(os.path.join(outputFolderPath, 'aCPM_by_weekday.png'));"
   ]
  },
  {
   "cell_type": "code",
   "execution_count": 48,
   "metadata": {},
   "outputs": [],
   "source": [
    "# TODO repeat for other attributes"
   ]
  },
  {
   "cell_type": "markdown",
   "metadata": {},
   "source": [
    "# effective cost-per-click (eCPC)"
   ]
  },
  {
   "cell_type": "code",
   "execution_count": 49,
   "metadata": {},
   "outputs": [
    {
     "data": {
      "image/png": "[encoded data removed]",
      "text/plain": [
       "<Figure size 432x288 with 1 Axes>"
      ]
     },
     "metadata": {
      "needs_background": "light"
     },
     "output_type": "display_data"
    }
   ],
   "source": [
    "df2 = df.groupby('weekday').agg({'click': ['sum'], 'payprice': ['sum']})\n",
    "df2['eCPC'] = np.where(df2['click'] == 0, df2['click'], df2['payprice'] / df2['click'])\n",
    "df2['eCPC'].plot(kind='bar')\n",
    "plt.ylabel('eCPC');\n",
    "if OUTPUT_DATA: plt.savefig(os.path.join(outputFolderPath, 'eCPC_by_weekday.png'));"
   ]
  },
  {
   "cell_type": "code",
   "execution_count": 50,
   "metadata": {},
   "outputs": [],
   "source": [
    "# TODO repeat for other attributes"
   ]
  },
  {
   "cell_type": "markdown",
   "metadata": {},
   "source": [
    "# price"
   ]
  },
  {
   "cell_type": "code",
   "execution_count": 51,
   "metadata": {},
   "outputs": [
    {
     "data": {
      "image/png": "[encoded data removed]",
      "text/plain": [
       "<Figure size 432x288 with 1 Axes>"
      ]
     },
     "metadata": {
      "needs_background": "light"
     },
     "output_type": "display_data"
    }
   ],
   "source": [
    "# Price by weekday\n",
    "df.groupby('weekday')['payprice'].apply(np.mean).plot(kind='bar')\n",
    "plt.ylabel('price');\n",
    "if OUTPUT_DATA: plt.savefig(os.path.join(outputFolderPath, 'Price_by_weekday.png'));"
   ]
  },
  {
   "cell_type": "code",
   "execution_count": 52,
   "metadata": {},
   "outputs": [],
   "source": [
    "# TODO repeat for other attributes"
   ]
  },
  {
   "cell_type": "code",
   "execution_count": 5,
   "metadata": {},
   "outputs": [],
   "source": [
    "# look at user tags\n",
    "usertagsRaw = np.array(df['usertag'])\n",
    "usertagsSingle = dict()\n",
    "for idx in range(len(usertagsRaw)):\n",
    "    if type(usertagsRaw[idx]) != str:\n",
    "        continue\n",
    "    else:\n",
    "        tags = str(usertagsRaw[idx]).split(',')\n",
    "    \n",
    "    for tag in tags:\n",
    "        usertagsSingle[tag] = usertagsSingle.get(tag,0) + 1"
   ]
  },
  {
   "cell_type": "code",
   "execution_count": 15,
   "metadata": {},
   "outputs": [
    {
     "data": {
      "image/png": "[encoded data removed]",
      "text/plain": [
       "<Figure size 432x288 with 1 Axes>"
      ]
     },
     "metadata": {
      "needs_background": "light"
     },
     "output_type": "display_data"
    }
   ],
   "source": [
    "plt.plot(usertagsSingle.values()); # TODO change to bar, add x axis labels"
   ]
  },
  {
   "cell_type": "code",
   "execution_count": null,
   "metadata": {},
   "outputs": [],
   "source": [
    "# how can I realte this to CTR?"
   ]
  }
 ],
 "metadata": {
  "kernelspec": {
   "display_name": "Python 3",
   "language": "python",
   "name": "python3"
  },
  "language_info": {
   "codemirror_mode": {
    "name": "ipython",
    "version": 3
   },
   "file_extension": ".py",
   "mimetype": "text/x-python",
   "name": "python",
   "nbconvert_exporter": "python",
   "pygments_lexer": "ipython3",
   "version": "3.6.7"
  }
 },
 "nbformat": 4,
 "nbformat_minor": 2
}
