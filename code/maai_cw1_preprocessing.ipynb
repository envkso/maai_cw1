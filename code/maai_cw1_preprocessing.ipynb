{
 "cells": [
  {
   "cell_type": "code",
   "execution_count": 1,
   "metadata": {},
   "outputs": [],
   "source": [
    "# CONSIDER WHETHER SAMPLING REQUIRED BECAUSE OHC WILL INCREASE DATA SIZE SIGNIFICANTLY\n",
    "import os\n",
    "from sklearn.preprocessing import OneHotEncoder, StandardScaler\n",
    "from sklearn.pipeline import Pipeline\n",
    "from sklearn.compose import ColumnTransformer\n",
    "import numpy as np\n",
    "import pandas as pd\n",
    "# try with my custom encoder for user tags\n",
    "from sklearn.base import BaseEstimator, TransformerMixin"
   ]
  },
  {
   "cell_type": "code",
   "execution_count": 40,
   "metadata": {},
   "outputs": [],
   "source": [
    "scriptDir = os.getcwd() # Assumes that script is executed from its actual location\n",
    "relPath = r\"../data/\" # And data is located in a 'data' folder in the same parent directory as 'code' folder\n",
    "trainFilePath = os.path.join(scriptDir, relPath,\"train.csv\")\n",
    "valFilePath = os.path.join(scriptDir, relPath,\"validation.csv\")\n",
    "sampleFilePath = os.path.join(scriptDir, relPath,\"sample.csv\")\n",
    "testFilePath = os.path.join(scriptDir, relPath,\"test.csv\")\n",
    "relPathOutput = r\"../output/\"\n",
    "outputFolderPath = os.path.join(scriptDir, relPathOutput)"
   ]
  },
  {
   "cell_type": "code",
   "execution_count": 3,
   "metadata": {},
   "outputs": [],
   "source": [
    "# Load data\n",
    "df = pd.read_csv(sampleFilePath, sep=',',header=0, quotechar='\"')"
   ]
  },
  {
   "cell_type": "code",
   "execution_count": 15,
   "metadata": {},
   "outputs": [
    {
     "data": {
      "text/html": [
       "<div>\n",
       "<style scoped>\n",
       "    .dataframe tbody tr th:only-of-type {\n",
       "        vertical-align: middle;\n",
       "    }\n",
       "\n",
       "    .dataframe tbody tr th {\n",
       "        vertical-align: top;\n",
       "    }\n",
       "\n",
       "    .dataframe thead th {\n",
       "        text-align: right;\n",
       "    }\n",
       "</style>\n",
       "<table border=\"1\" class=\"dataframe\">\n",
       "  <thead>\n",
       "    <tr style=\"text-align: right;\">\n",
       "      <th></th>\n",
       "      <th>click</th>\n",
       "      <th>weekday</th>\n",
       "      <th>hour</th>\n",
       "      <th>bidid</th>\n",
       "      <th>userid</th>\n",
       "      <th>useragent</th>\n",
       "      <th>IP</th>\n",
       "      <th>region</th>\n",
       "      <th>city</th>\n",
       "      <th>adexchange</th>\n",
       "      <th>...</th>\n",
       "      <th>slotprice</th>\n",
       "      <th>creative</th>\n",
       "      <th>bidprice</th>\n",
       "      <th>payprice</th>\n",
       "      <th>keypage</th>\n",
       "      <th>advertiser</th>\n",
       "      <th>usertag</th>\n",
       "      <th>OS</th>\n",
       "      <th>browser</th>\n",
       "      <th>slotsize</th>\n",
       "    </tr>\n",
       "  </thead>\n",
       "  <tbody>\n",
       "    <tr>\n",
       "      <th>0</th>\n",
       "      <td>0</td>\n",
       "      <td>5</td>\n",
       "      <td>22</td>\n",
       "      <td>b7bea80521fdecd95d2d761a38c91c3f09618066</td>\n",
       "      <td>2e880fb7d690cf7377b2e42e701728e3f3c0e4c1</td>\n",
       "      <td>windows_ie</td>\n",
       "      <td>125.37.175.*</td>\n",
       "      <td>2</td>\n",
       "      <td>2</td>\n",
       "      <td>2.0</td>\n",
       "      <td>...</td>\n",
       "      <td>5</td>\n",
       "      <td>a4f763f78ef3eedfe614263b94a8924e</td>\n",
       "      <td>238</td>\n",
       "      <td>5</td>\n",
       "      <td>0f951a030abdaedd733ee8d114ce2944</td>\n",
       "      <td>3427</td>\n",
       "      <td>NaN</td>\n",
       "      <td>windows</td>\n",
       "      <td>ie</td>\n",
       "      <td>40000</td>\n",
       "    </tr>\n",
       "    <tr>\n",
       "      <th>1</th>\n",
       "      <td>0</td>\n",
       "      <td>1</td>\n",
       "      <td>20</td>\n",
       "      <td>4f51205475678f5a124bc76b2c54163bf8eaa7eb</td>\n",
       "      <td>3a1fe01360ff8100e7d006b83b77a3e4c01d928c</td>\n",
       "      <td>windows_chrome</td>\n",
       "      <td>171.36.92.*</td>\n",
       "      <td>238</td>\n",
       "      <td>239</td>\n",
       "      <td>1.0</td>\n",
       "      <td>...</td>\n",
       "      <td>0</td>\n",
       "      <td>10722</td>\n",
       "      <td>294</td>\n",
       "      <td>23</td>\n",
       "      <td>NaN</td>\n",
       "      <td>2821</td>\n",
       "      <td>NaN</td>\n",
       "      <td>windows</td>\n",
       "      <td>chrome</td>\n",
       "      <td>75000</td>\n",
       "    </tr>\n",
       "  </tbody>\n",
       "</table>\n",
       "<p>2 rows × 28 columns</p>\n",
       "</div>"
      ],
      "text/plain": [
       "   click  weekday  hour                                     bidid  \\\n",
       "0      0        5    22  b7bea80521fdecd95d2d761a38c91c3f09618066   \n",
       "1      0        1    20  4f51205475678f5a124bc76b2c54163bf8eaa7eb   \n",
       "\n",
       "                                     userid       useragent            IP  \\\n",
       "0  2e880fb7d690cf7377b2e42e701728e3f3c0e4c1      windows_ie  125.37.175.*   \n",
       "1  3a1fe01360ff8100e7d006b83b77a3e4c01d928c  windows_chrome   171.36.92.*   \n",
       "\n",
       "   region  city  adexchange  ... slotprice                          creative  \\\n",
       "0       2     2         2.0  ...         5  a4f763f78ef3eedfe614263b94a8924e   \n",
       "1     238   239         1.0  ...         0                             10722   \n",
       "\n",
       "   bidprice payprice                           keypage  advertiser usertag  \\\n",
       "0       238        5  0f951a030abdaedd733ee8d114ce2944        3427     NaN   \n",
       "1       294       23                               NaN        2821     NaN   \n",
       "\n",
       "        OS  browser slotsize  \n",
       "0  windows       ie    40000  \n",
       "1  windows   chrome    75000  \n",
       "\n",
       "[2 rows x 28 columns]"
      ]
     },
     "execution_count": 15,
     "metadata": {},
     "output_type": "execute_result"
    }
   ],
   "source": [
    "df.head(2)"
   ]
  },
  {
   "cell_type": "code",
   "execution_count": 4,
   "metadata": {},
   "outputs": [],
   "source": [
    "# Split into features and labels\n",
    "# List all columns and summarise what will be done with them\n",
    "# In general, numerical will be scaled and categorical will be one-hot-encoded\n",
    "# Some may be dropped\n",
    "# Some additional features need to be created\n",
    "# Some will be dropped"
   ]
  },
  {
   "cell_type": "code",
   "execution_count": 5,
   "metadata": {},
   "outputs": [],
   "source": [
    "# click - LABEL\n",
    "# weekday - categorical, encode\n",
    "# hour - categorical, encode\n",
    "# bidid - ignore\n",
    "# userid - ignore\n",
    "# useragent - ignore (but see OS and browser)\n",
    "# IP - ignore\n",
    "# region - categorical, encode\n",
    "# city - categorical, encode\n",
    "# adexchange - categorical, encode\n",
    "# domain - ignore\n",
    "# url - ignore\n",
    "# urlid - ignore\n",
    "# slotid - ignore\n",
    "# slotwidth - numeric, scaled\n",
    "# slotheight - numeric, scaled\n",
    "# slotvisibility - categorical, encode\n",
    "# slotformat - categorical, encode\n",
    "# slotprice - numeric, scaled\n",
    "# creative - ?\n",
    "# bidprice - ignore (train/val only)\n",
    "# payprice - ignore (train/val only)\n",
    "# keypage - ?\n",
    "# advertiser - categorical, encode\n",
    "# usertag - NEED TO REVIEW\n",
    "# OS - derived, categorical, encode\n",
    "# browser - derived, categorical, encode\n",
    "# slotsize - derived, numerical, scaled"
   ]
  },
  {
   "cell_type": "code",
   "execution_count": 6,
   "metadata": {},
   "outputs": [],
   "source": [
    "# reduce dataset for testing\n",
    "df = df.head(10)"
   ]
  },
  {
   "cell_type": "code",
   "execution_count": 7,
   "metadata": {},
   "outputs": [],
   "source": [
    "# Split 'useragent' field into 'OS' and 'browser'\n",
    "dfn = df['useragent'].str.split('_', expand = True)\n",
    "df['OS'] = dfn[0]\n",
    "df['browser'] = dfn[1]\n",
    "# Create slotsize field\n",
    "df['slotsize'] = df['slotheight'] * df['slotwidth']"
   ]
  },
  {
   "cell_type": "code",
   "execution_count": 8,
   "metadata": {},
   "outputs": [],
   "source": [
    "# convert numeric (non categorical) fields from int to float (to avoid warnings later)\n",
    "# TODO"
   ]
  },
  {
   "cell_type": "code",
   "execution_count": 16,
   "metadata": {},
   "outputs": [
    {
     "name": "stdout",
     "output_type": "stream",
     "text": [
      "   weekday  hour  region  city  adexchange slotvisibility slotformat  \\\n",
      "0        5    22       2     2         2.0              2          0   \n",
      "1        1    20     238   239         1.0     FourthView         Na   \n",
      "2        3    13      40    41         2.0              2          0   \n",
      "3        6    23       1     1         1.0              2          1   \n",
      "4        5     6     216   233         2.0      OtherView         Na   \n",
      "5        4    17     276   277         1.0              2          1   \n",
      "6        3    12      80    89         3.0              0          0   \n",
      "7        3    16      15    19         1.0              2          1   \n",
      "8        5    14     333   342         3.0              0          0   \n",
      "9        5     0       2     2         3.0              0          0   \n",
      "\n",
      "   advertiser       OS browser  slotwidth  slotheight  slotprice  slotsize  \\\n",
      "0        3427  windows      ie        200         200          5     40000   \n",
      "1        2821  windows  chrome        300         250          0     75000   \n",
      "2        3427  windows      ie        250         250          5     62500   \n",
      "3        1458  windows      ie        160         600          0     96000   \n",
      "4        2259  windows      ie        728          90        133     65520   \n",
      "5        1458  windows      ie        336         280          0     94080   \n",
      "6        3386  windows      ie       1000          90         20     90000   \n",
      "7        1458  windows      ie        160         600          0     96000   \n",
      "8        1458  windows      ie       1000          90         70     90000   \n",
      "9        3358  windows  chrome       1000          90         70     90000   \n",
      "\n",
      "                                           usertag  \n",
      "0                                              NaN  \n",
      "1                                              NaN  \n",
      "2                          10052,10006,13866,10110  \n",
      "3                                13866,10063,10111  \n",
      "4                                              NaN  \n",
      "5                    10006,10077,10063,10057,10110  \n",
      "6  10083,10024,10063,13496,10093,10006,10057,10110  \n",
      "7              10063,10024,13800,13866,10006,10111  \n",
      "8                          10063,10006,10083,10110  \n",
      "9  13403,10031,10063,10083,10006,10077,10075,10110  \n",
      "0    0\n",
      "1    0\n",
      "2    0\n",
      "3    0\n",
      "4    0\n",
      "5    0\n",
      "6    0\n",
      "7    0\n",
      "8    0\n",
      "9    0\n",
      "Name: click, dtype: int64\n"
     ]
    }
   ],
   "source": [
    "# split into features and labels\n",
    "X_train = df[['weekday', 'hour', 'region', 'city', 'adexchange', 'slotvisibility', 'slotformat', 'advertiser', 'OS', 'browser',\n",
    "                 'slotwidth', 'slotheight', 'slotprice', 'slotsize',\n",
    "                 'usertag']]\n",
    "y_train = df['click']\n",
    "# print(X_train.head(5))\n",
    "# print(y_train.head(5))"
   ]
  },
  {
   "cell_type": "code",
   "execution_count": 30,
   "metadata": {},
   "outputs": [],
   "source": [
    "class UserTagEncoder(BaseEstimator, TransformerMixin):\n",
    "    \n",
    "    def __init__(self):\n",
    "        self.fitted = False\n",
    "\n",
    "    def fit(self, X, y=None):\n",
    "        #X = np.array(X).reshape(X.shape[0],)\n",
    "        X = np.array(X)\n",
    "        \n",
    "        usertagsUnique = set()\n",
    "\n",
    "        for idx in range(X.shape[0]):\n",
    "            if type(X[idx,0]) != str:\n",
    "                continue\n",
    "            else:\n",
    "                tags = str(X[idx,0]).split(',')\n",
    "\n",
    "            for tag in tags:\n",
    "                usertagsUnique.add(tag)\n",
    "\n",
    "        usertagsUnique = list(usertagsUnique)\n",
    "        columns = ['u0_'+x for x in usertagsUnique]\n",
    "        \n",
    "        self.tags = usertagsUnique\n",
    "        self.columns = columns\n",
    "        self.fitted = True\n",
    "\n",
    "        # Return the transformer\n",
    "        return self\n",
    "\n",
    "    def transform(self, X):\n",
    "        #X = np.array(X).reshape(X.shape[0],)\n",
    "        X = np.array(X)\n",
    "        \n",
    "        # Check is fit had been called\n",
    "        if not(self.fitted):\n",
    "            raise ValueError(\"Estimator not fitted\")\n",
    "\n",
    "        # Input validation\n",
    "        #X = check_array(X, accept_sparse=True)\n",
    "        \n",
    "        # already have the unique list\n",
    "        usertagsUnique = self.tags\n",
    "        # now get all the tags from the data provided and check against it\n",
    "        X_new = np.zeros((X.shape[0],len(usertagsUnique)))\n",
    "        for n in range(X.shape[0]):\n",
    "            #print(n)\n",
    "            if type(X[n,0]) != str:\n",
    "                usertagsMulti = []\n",
    "            else:\n",
    "                usertagsMulti = str(X[n,0]).split(',')\n",
    "        \n",
    "            for m in range(len(usertagsUnique)):\n",
    "                if usertagsUnique[m] in usertagsMulti:\n",
    "                    X_new[n,m] = 1\n",
    "\n",
    "        return X_new"
   ]
  },
  {
   "cell_type": "code",
   "execution_count": 52,
   "metadata": {},
   "outputs": [
    {
     "name": "stderr",
     "output_type": "stream",
     "text": [
      "C:\\Users\\matth\\Anaconda2\\envs\\py3\\lib\\site-packages\\sklearn\\preprocessing\\data.py:625: DataConversionWarning: Data with input dtype int64 were all converted to float64 by StandardScaler.\n",
      "  return self.partial_fit(X, y)\n",
      "C:\\Users\\matth\\Anaconda2\\envs\\py3\\lib\\site-packages\\sklearn\\base.py:462: DataConversionWarning: Data with input dtype int64 were all converted to float64 by StandardScaler.\n",
      "  return self.fit(X, **fit_params).transform(X)\n"
     ]
    }
   ],
   "source": [
    "# Pre-processing\n",
    "# NOTE: adexchange removed from catgColumns since contains NaNs. TODO properly\n",
    "# catg\n",
    "oneHotEnc = OneHotEncoder(sparse=False,handle_unknown='ignore')\n",
    "catgColumns = ['weekday', 'hour', 'region', 'city', 'slotvisibility', 'slotformat', 'advertiser', 'OS', 'browser']\n",
    "catgTransform_info = ('catg', oneHotEnc, catgColumns)\n",
    "# num\n",
    "scale = StandardScaler()\n",
    "numColumns = ['slotwidth', 'slotheight', 'slotprice', 'slotsize']\n",
    "numTransform_info = ('num', scale, numColumns)\n",
    "# usertags\n",
    "tagEncoder = UserTagEncoder()\n",
    "tagColumn = ['usertag']\n",
    "tagTransform_info = ('tag', tagEncoder, tagColumn)\n",
    "# column transformer for both\n",
    "allPreProc = ColumnTransformer([catgTransform_info, numTransform_info, tagTransform_info])\n",
    "X_train_pp = allPreProc.fit_transform(X_train)"
   ]
  },
  {
   "cell_type": "code",
   "execution_count": 49,
   "metadata": {},
   "outputs": [
    {
     "data": {
      "text/plain": [
       "array([ 0.        ,  0.        ,  0.        ,  0.        ,  1.        ,\n",
       "        0.        ,  0.        ,  0.        ,  0.        ,  0.        ,\n",
       "        0.        ,  0.        ,  0.        ,  0.        ,  1.        ,\n",
       "        1.        ,  0.        ,  0.        ,  0.        ,  0.        ,\n",
       "        0.        ,  0.        ,  0.        ,  0.        ,  1.        ,\n",
       "        0.        ,  0.        ,  0.        ,  0.        ,  0.        ,\n",
       "        0.        ,  0.        ,  0.        ,  0.        ,  1.        ,\n",
       "        0.        ,  0.        ,  0.        ,  1.        ,  0.        ,\n",
       "        1.        ,  0.        ,  0.        ,  0.        ,  0.        ,\n",
       "        0.        ,  1.        ,  0.        ,  1.        , -0.99925267,\n",
       "        1.84775919, -0.69959743,  0.90641259,  0.        ,  0.        ,\n",
       "        0.        ,  0.        ,  0.        ,  0.        ,  1.        ,\n",
       "        0.        ,  0.        ,  0.        ,  0.        ,  1.        ,\n",
       "        1.        ,  0.        ,  0.        ,  0.        ])"
      ]
     },
     "execution_count": 49,
     "metadata": {},
     "output_type": "execute_result"
    }
   ],
   "source": [
    "# example processed record\n",
    "X_train_pp[3,:]"
   ]
  },
  {
   "cell_type": "code",
   "execution_count": 11,
   "metadata": {},
   "outputs": [],
   "source": [
    "# Load and run on test data (will need to do other stesps first too)"
   ]
  },
  {
   "cell_type": "code",
   "execution_count": 41,
   "metadata": {},
   "outputs": [],
   "source": [
    "dfTest = pd.read_csv(testFilePath, sep=',',header=0, quotechar='\"')"
   ]
  },
  {
   "cell_type": "code",
   "execution_count": 42,
   "metadata": {},
   "outputs": [
    {
     "data": {
      "text/html": [
       "<div>\n",
       "<style scoped>\n",
       "    .dataframe tbody tr th:only-of-type {\n",
       "        vertical-align: middle;\n",
       "    }\n",
       "\n",
       "    .dataframe tbody tr th {\n",
       "        vertical-align: top;\n",
       "    }\n",
       "\n",
       "    .dataframe thead th {\n",
       "        text-align: right;\n",
       "    }\n",
       "</style>\n",
       "<table border=\"1\" class=\"dataframe\">\n",
       "  <thead>\n",
       "    <tr style=\"text-align: right;\">\n",
       "      <th></th>\n",
       "      <th>weekday</th>\n",
       "      <th>hour</th>\n",
       "      <th>bidid</th>\n",
       "      <th>userid</th>\n",
       "      <th>useragent</th>\n",
       "      <th>IP</th>\n",
       "      <th>region</th>\n",
       "      <th>city</th>\n",
       "      <th>adexchange</th>\n",
       "      <th>domain</th>\n",
       "      <th>...</th>\n",
       "      <th>slotid</th>\n",
       "      <th>slotwidth</th>\n",
       "      <th>slotheight</th>\n",
       "      <th>slotvisibility</th>\n",
       "      <th>slotformat</th>\n",
       "      <th>slotprice</th>\n",
       "      <th>creative</th>\n",
       "      <th>keypage</th>\n",
       "      <th>advertiser</th>\n",
       "      <th>usertag</th>\n",
       "    </tr>\n",
       "  </thead>\n",
       "  <tbody>\n",
       "    <tr>\n",
       "      <th>0</th>\n",
       "      <td>0</td>\n",
       "      <td>12</td>\n",
       "      <td>366c563de7d90feb9d4dab53e795a93fb3157387</td>\n",
       "      <td>75045dd2f2136c93fe55fe6c446ec1527ed8f0bb</td>\n",
       "      <td>windows_chrome</td>\n",
       "      <td>27.197.36.*</td>\n",
       "      <td>146</td>\n",
       "      <td>159</td>\n",
       "      <td>3.0</td>\n",
       "      <td>DDTSQuf0MTTNaqKIvMpENpn</td>\n",
       "      <td>...</td>\n",
       "      <td>Astro_F_Rectangle</td>\n",
       "      <td>300</td>\n",
       "      <td>250</td>\n",
       "      <td>0</td>\n",
       "      <td>0</td>\n",
       "      <td>10</td>\n",
       "      <td>00fccc64a1ee2809348509b7ac2a97a5</td>\n",
       "      <td>b2e35064f3549d447edbbdfb1f707c8c</td>\n",
       "      <td>3427</td>\n",
       "      <td>10024,10077,10075,10063,10031,10102,10006,1304...</td>\n",
       "    </tr>\n",
       "    <tr>\n",
       "      <th>1</th>\n",
       "      <td>3</td>\n",
       "      <td>14</td>\n",
       "      <td>29167d4caa719788b5a342dbaa25151d53121f80</td>\n",
       "      <td>11279eb1f8f7a88f877db911673522b6ff202aa7</td>\n",
       "      <td>android_safari</td>\n",
       "      <td>124.126.227.*</td>\n",
       "      <td>1</td>\n",
       "      <td>1</td>\n",
       "      <td>NaN</td>\n",
       "      <td>d63d96468f66986d5a8eb5225ad0b6f0</td>\n",
       "      <td>...</td>\n",
       "      <td>2745306850</td>\n",
       "      <td>320</td>\n",
       "      <td>50</td>\n",
       "      <td>FirstView</td>\n",
       "      <td>Na</td>\n",
       "      <td>5</td>\n",
       "      <td>11908</td>\n",
       "      <td>NaN</td>\n",
       "      <td>2997</td>\n",
       "      <td>NaN</td>\n",
       "    </tr>\n",
       "  </tbody>\n",
       "</table>\n",
       "<p>2 rows × 22 columns</p>\n",
       "</div>"
      ],
      "text/plain": [
       "   weekday  hour                                     bidid  \\\n",
       "0        0    12  366c563de7d90feb9d4dab53e795a93fb3157387   \n",
       "1        3    14  29167d4caa719788b5a342dbaa25151d53121f80   \n",
       "\n",
       "                                     userid       useragent             IP  \\\n",
       "0  75045dd2f2136c93fe55fe6c446ec1527ed8f0bb  windows_chrome    27.197.36.*   \n",
       "1  11279eb1f8f7a88f877db911673522b6ff202aa7  android_safari  124.126.227.*   \n",
       "\n",
       "   region  city  adexchange                            domain  ...  \\\n",
       "0     146   159         3.0           DDTSQuf0MTTNaqKIvMpENpn  ...   \n",
       "1       1     1         NaN  d63d96468f66986d5a8eb5225ad0b6f0  ...   \n",
       "\n",
       "              slotid  slotwidth slotheight  slotvisibility  slotformat  \\\n",
       "0  Astro_F_Rectangle        300        250               0           0   \n",
       "1         2745306850        320         50       FirstView          Na   \n",
       "\n",
       "  slotprice                          creative  \\\n",
       "0        10  00fccc64a1ee2809348509b7ac2a97a5   \n",
       "1         5                             11908   \n",
       "\n",
       "                            keypage advertiser  \\\n",
       "0  b2e35064f3549d447edbbdfb1f707c8c       3427   \n",
       "1                               NaN       2997   \n",
       "\n",
       "                                             usertag  \n",
       "0  10024,10077,10075,10063,10031,10102,10006,1304...  \n",
       "1                                                NaN  \n",
       "\n",
       "[2 rows x 22 columns]"
      ]
     },
     "execution_count": 42,
     "metadata": {},
     "output_type": "execute_result"
    }
   ],
   "source": [
    "dfTest.head(2)"
   ]
  },
  {
   "cell_type": "code",
   "execution_count": 43,
   "metadata": {},
   "outputs": [],
   "source": [
    "# Split 'useragent' field into 'OS' and 'browser'\n",
    "dfn = dfTest['useragent'].str.split('_', expand = True)\n",
    "dfTest['OS'] = dfn[0]\n",
    "dfTest['browser'] = dfn[1]\n",
    "# Create slotsize field\n",
    "dfTest['slotsize'] = dfTest['slotheight'] * dfTest['slotwidth']"
   ]
  },
  {
   "cell_type": "code",
   "execution_count": 44,
   "metadata": {},
   "outputs": [],
   "source": [
    "# convert numeric (non categorical) fields from int to float (to avoid warnings later)\n",
    "# TODO"
   ]
  },
  {
   "cell_type": "code",
   "execution_count": 46,
   "metadata": {},
   "outputs": [],
   "source": [
    "# split into features and labels\n",
    "X_test = dfTest[['weekday', 'hour', 'region', 'city', 'adexchange', 'slotvisibility', 'slotformat', 'advertiser', 'OS', 'browser',\n",
    "                 'slotwidth', 'slotheight', 'slotprice', 'slotsize',\n",
    "                 'usertag']]\n",
    "# print(X_train.head(5))"
   ]
  },
  {
   "cell_type": "code",
   "execution_count": 53,
   "metadata": {},
   "outputs": [
    {
     "name": "stderr",
     "output_type": "stream",
     "text": [
      "C:\\Users\\matth\\Anaconda2\\envs\\py3\\lib\\site-packages\\sklearn\\pipeline.py:605: DataConversionWarning: Data with input dtype int64 were all converted to float64 by StandardScaler.\n",
      "  res = transformer.transform(X)\n"
     ]
    }
   ],
   "source": [
    "X_test_pp = allPreProc.transform(X_test) # note, transform only (no fit)\n",
    "# adexchange has NaNs in the test dataset (non in train)\n",
    "#  I have removed this  for now but need to address properly later with additional pre-processing step\n",
    "\n"
   ]
  },
  {
   "cell_type": "code",
   "execution_count": 54,
   "metadata": {},
   "outputs": [
    {
     "data": {
      "text/plain": [
       "array([ 0.        ,  0.        ,  0.        ,  0.        ,  0.        ,\n",
       "        0.        ,  0.        ,  1.        ,  0.        ,  0.        ,\n",
       "        0.        ,  0.        ,  0.        ,  0.        ,  0.        ,\n",
       "        0.        ,  0.        ,  0.        ,  0.        ,  0.        ,\n",
       "        0.        ,  0.        ,  0.        ,  0.        ,  0.        ,\n",
       "        0.        ,  0.        ,  0.        ,  0.        ,  0.        ,\n",
       "        0.        ,  0.        ,  0.        ,  1.        ,  0.        ,\n",
       "        0.        ,  0.        ,  1.        ,  0.        ,  0.        ,\n",
       "        0.        ,  0.        ,  0.        ,  0.        ,  0.        ,\n",
       "        1.        ,  1.        ,  1.        ,  0.        , -0.60339706,\n",
       "       -0.02136138, -0.46870719, -0.27659949,  1.        ,  1.        ,\n",
       "        1.        ,  1.        ,  0.        ,  1.        ,  1.        ,\n",
       "        0.        ,  0.        ,  0.        ,  0.        ,  0.        ,\n",
       "        0.        ,  0.        ,  1.        ,  0.        ])"
      ]
     },
     "execution_count": 54,
     "metadata": {},
     "output_type": "execute_result"
    }
   ],
   "source": [
    "# example transformed test record\n",
    "X_test_pp[0,:]"
   ]
  },
  {
   "cell_type": "code",
   "execution_count": null,
   "metadata": {},
   "outputs": [],
   "source": []
  }
 ],
 "metadata": {
  "kernelspec": {
   "display_name": "Python 3",
   "language": "python",
   "name": "python3"
  },
  "language_info": {
   "codemirror_mode": {
    "name": "ipython",
    "version": 3
   },
   "file_extension": ".py",
   "mimetype": "text/x-python",
   "name": "python",
   "nbconvert_exporter": "python",
   "pygments_lexer": "ipython3",
   "version": "3.6.7"
  }
 },
 "nbformat": 4,
 "nbformat_minor": 2
}
