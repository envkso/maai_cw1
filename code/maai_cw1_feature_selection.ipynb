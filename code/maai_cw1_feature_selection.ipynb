{
 "cells": [
  {
   "cell_type": "code",
   "execution_count": 39,
   "metadata": {},
   "outputs": [],
   "source": [
    "import os\n",
    "import numpy as np\n",
    "import pandas as pd\n",
    "from sklearn.linear_model import LogisticRegression, Lasso, LassoCV\n",
    "from sklearn.metrics import accuracy_score, balanced_accuracy_score, precision_score, recall_score, f1_score, precision_recall_curve\n",
    "import matplotlib.pyplot as plt\n",
    "from joblib import dump, load\n",
    "from sklearn.utils.validation import column_or_1d"
   ]
  },
  {
   "cell_type": "code",
   "execution_count": 2,
   "metadata": {},
   "outputs": [],
   "source": [
    "# ANY PARAMETERS?"
   ]
  },
  {
   "cell_type": "code",
   "execution_count": 3,
   "metadata": {},
   "outputs": [],
   "source": [
    "scriptDir = os.getcwd() # Assumes that script is executed from its actual location\n",
    "relPath = r\"../output/\" # And data is located in a 'data' folder in the same parent directory as 'code' folder\n",
    "XtrainFilePath = os.path.join(scriptDir, relPath, \"X_train_pp.csv\")\n",
    "ytrainFilePath = os.path.join(scriptDir, relPath, \"y_train.csv\")\n",
    "XvalFilePath = os.path.join(scriptDir, relPath, \"X_val_pp.csv\")\n",
    "yvalFilePath = os.path.join(scriptDir, relPath, \"y_val.csv\")\n",
    "XtestFilePath = os.path.join(scriptDir, relPath, \"X_test_pp.csv\")\n",
    "columnsNamesPath = os.path.join(scriptDir, relPath, \"column_names.csv\")\n",
    "\n",
    "relPathOutput = r\"../output/\"\n",
    "outputFolderPath = os.path.join(scriptDir, relPathOutput)"
   ]
  },
  {
   "cell_type": "code",
   "execution_count": 4,
   "metadata": {},
   "outputs": [],
   "source": [
    "columns = pd.read_csv(columnsNamesPath,header=None)\n",
    "columns = list(columns[0])"
   ]
  },
  {
   "cell_type": "code",
   "execution_count": 5,
   "metadata": {},
   "outputs": [],
   "source": [
    "#X_val = np.loadtxt(XvalFilePath, delimiter=',')\n",
    "# check loading as pandas dataframe instead?\n",
    "# it's fine, can use either in same way\n",
    "#X_val = pd.read_csv(XvalFilePath, delimiter=',',header=None) # add column names if useful\n",
    "#X_train = np.loadtxt(XtrainFilePath, delimiter=',') # seems to take ages\n",
    "X_train = pd.read_csv(XtrainFilePath, delimiter=',',header=None)"
   ]
  },
  {
   "cell_type": "code",
   "execution_count": 6,
   "metadata": {},
   "outputs": [
    {
     "data": {
      "text/plain": [
       "(2430981, 547)"
      ]
     },
     "execution_count": 6,
     "metadata": {},
     "output_type": "execute_result"
    }
   ],
   "source": [
    "X_train.shape"
   ]
  },
  {
   "cell_type": "code",
   "execution_count": 7,
   "metadata": {},
   "outputs": [],
   "source": [
    "#y_val = np.loadtxt(yvalFilePath, delimiter=',')\n",
    "#y_val = pd.read_csv(yvalFilePath, delimiter=',',header=None)\n",
    "#y_train = np.loadtxt(ytrainFilePath, delimiter=',')\n",
    "y_train = pd.read_csv(ytrainFilePath, delimiter=',',header=None)"
   ]
  },
  {
   "cell_type": "code",
   "execution_count": 8,
   "metadata": {},
   "outputs": [],
   "source": [
    "# No sampling required for this model (so far)"
   ]
  },
  {
   "cell_type": "code",
   "execution_count": 68,
   "metadata": {},
   "outputs": [],
   "source": [
    "# TRAIN LOGISTIC REGRESSION MODEL\n",
    "#clf = Lasso().fit(X_train, np.ravel(y_train))\n",
    "# I GET MEMORY ERRORS IF TRY TO TRAIN ON FULL DATASET"
   ]
  },
  {
   "cell_type": "code",
   "execution_count": null,
   "metadata": {},
   "outputs": [],
   "source": [
    "# Ok, try repeated sampling/training instead"
   ]
  },
  {
   "cell_type": "code",
   "execution_count": 12,
   "metadata": {},
   "outputs": [],
   "source": [
    "# Take all positive classes\n",
    "X_train_1 = X_train[y_train[0] == 1]\n",
    "y_train_1 = y_train[y_train[0] == 1]"
   ]
  },
  {
   "cell_type": "code",
   "execution_count": 84,
   "metadata": {},
   "outputs": [],
   "source": [
    "n = y_train_1.shape[0]\n",
    "repeats = 100\n",
    "scores = np.zeros((repeats, 5))\n",
    "coeffsAll = np.zeros((X_train.shape[1], repeats))\n",
    "for i in range(repeats):\n",
    "    # random downsample\n",
    "    idx = y_train[y_train[0] == 0].sample(n=n).index\n",
    "    X_train_0 = X_train.loc[idx]\n",
    "    y_train_0 = y_train.loc[idx]\n",
    "    X_train_ds = pd.concat([X_train_0, X_train_1])\n",
    "    y_train_ds = pd.concat([y_train_0, y_train_1])\n",
    "    #clf = Lasso(alpha=0.1).fit(X_train_ds, y_train_ds)\n",
    "    clf = LogisticRegression(solver='liblinear', penalty='l1').fit(X_train_ds, np.ravel(y_train_ds))\n",
    "    coeffsAll[:,i] = clf.coef_"
   ]
  },
  {
   "cell_type": "code",
   "execution_count": 98,
   "metadata": {},
   "outputs": [],
   "source": [
    "# Count non-zero elements\n",
    "nzCounts = np.count_nonzero(coeffsAll, axis=1)\n",
    "#nzSum = np.sum(coeffsAll, axis=1) # could also take top n elements based on coeff size\n",
    "# Save the list of columns to keep (boolean array), or named column list\n",
    "keep = np.where(nzCounts > 10, True, False)\n",
    "selectedColumnsLogReg = np.array(columns)[keep]"
   ]
  },
  {
   "cell_type": "code",
   "execution_count": 99,
   "metadata": {},
   "outputs": [
    {
     "data": {
      "text/plain": [
       "397"
      ]
     },
     "execution_count": 99,
     "metadata": {},
     "output_type": "execute_result"
    }
   ],
   "source": [
    "keep.sum()"
   ]
  },
  {
   "cell_type": "code",
   "execution_count": 100,
   "metadata": {},
   "outputs": [],
   "source": [
    "np.savetxt(r\"../output/coeffsAll_LogReg.csv\", coeffsAll, fmt='%s')\n",
    "np.savetxt(r\"../output/selectedColumns_LogReg.csv\", selectedColumnsLogReg, fmt='%s')"
   ]
  },
  {
   "cell_type": "code",
   "execution_count": 69,
   "metadata": {},
   "outputs": [],
   "source": [
    "# Also try with LassoCV\n",
    "# (Using Lasso, all the coeffs are zero, so use CV version)\n",
    "n = y_train_1.shape[0]\n",
    "repeats = 100\n",
    "scores = np.zeros((repeats, 5))\n",
    "coeffsAll = np.zeros((X_train.shape[1], repeats))\n",
    "for i in range(repeats):\n",
    "    # random downsample\n",
    "    idx = y_train[y_train[0] == 0].sample(n=n).index\n",
    "    X_train_0 = X_train.loc[idx]\n",
    "    y_train_0 = y_train.loc[idx]\n",
    "    X_train_ds = pd.concat([X_train_0, X_train_1])\n",
    "    y_train_ds = pd.concat([y_train_0, y_train_1])\n",
    "    clf = LassoCV(cv=3).fit(X_train_ds, np.ravel(y_train_ds))\n",
    "    coeffsAll[:,i] = clf.coef_"
   ]
  },
  {
   "cell_type": "code",
   "execution_count": 81,
   "metadata": {},
   "outputs": [],
   "source": [
    "# Count non-zero elements\n",
    "nzCounts = np.count_nonzero(coeffsAll, axis=1)\n",
    "#nzSum = np.sum(coeffsAll, axis=1) # could also take top n elements based on coeff size\n",
    "# Save the list of columns to keep (boolean array), or named column list\n",
    "keep = np.where(nzCounts > 5, True, False)\n",
    "selectedColumnsLasso = np.array(columns)[keep]"
   ]
  },
  {
   "cell_type": "code",
   "execution_count": 82,
   "metadata": {},
   "outputs": [
    {
     "data": {
      "text/plain": [
       "232"
      ]
     },
     "execution_count": 82,
     "metadata": {},
     "output_type": "execute_result"
    }
   ],
   "source": [
    "keep.sum()"
   ]
  },
  {
   "cell_type": "code",
   "execution_count": 83,
   "metadata": {},
   "outputs": [],
   "source": [
    "np.savetxt(r\"../output/coeffsAll_Lasso.csv\", coeffsAll, fmt='%s')\n",
    "np.savetxt(r\"../output/selectedColumns_Lasso.csv\", selectedColumnsLasso, fmt='%s')"
   ]
  },
  {
   "cell_type": "code",
   "execution_count": null,
   "metadata": {},
   "outputs": [],
   "source": [
    "# Should I repeat the training until I have covered the full training set?\n",
    "# If each iteration uses ~2000 records, it would take ~1200 slices (not random) to cover the full dataset\n",
    "# For logReg, maybe need to be more stringent than taking any feature that had a non-zero coef in any run \n",
    "#  - in 10 runs this is giving about 400 features"
   ]
  }
 ],
 "metadata": {
  "kernelspec": {
   "display_name": "Python 3",
   "language": "python",
   "name": "python3"
  },
  "language_info": {
   "codemirror_mode": {
    "name": "ipython",
    "version": 3
   },
   "file_extension": ".py",
   "mimetype": "text/x-python",
   "name": "python",
   "nbconvert_exporter": "python",
   "pygments_lexer": "ipython3",
   "version": "3.6.7"
  }
 },
 "nbformat": 4,
 "nbformat_minor": 2
}
