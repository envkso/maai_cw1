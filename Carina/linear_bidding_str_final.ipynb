{
 "cells": [
  {
   "cell_type": "code",
   "execution_count": 1,
   "metadata": {},
   "outputs": [],
   "source": [
    "import numpy as np\n",
    "import pandas as pd\n",
    "import matplotlib.pyplot as plt\n",
    "import time\n",
    "\n"
   ]
  },
  {
   "cell_type": "code",
   "execution_count": 2,
   "metadata": {},
   "outputs": [],
   "source": [
    "pred=pd.read_csv('pred_lr2.csv')\n",
    "valid=pd.read_csv('validation.csv')"
   ]
  },
  {
   "cell_type": "code",
   "execution_count": 5,
   "metadata": {},
   "outputs": [],
   "source": [
    "pred=pred['pre_click_final']"
   ]
  },
  {
   "cell_type": "code",
   "execution_count": 11,
   "metadata": {},
   "outputs": [
    {
     "data": {
      "text/plain": [
       "0         0.000227\n",
       "1         0.000141\n",
       "2         0.000095\n",
       "3         0.000079\n",
       "4         0.000098\n",
       "5         0.000441\n",
       "6         0.000426\n",
       "7         0.000580\n",
       "8         0.000133\n",
       "9         0.000127\n",
       "10        0.000397\n",
       "11        0.000148\n",
       "12        0.000190\n",
       "13        0.000258\n",
       "14        0.000782\n",
       "15        0.000235\n",
       "16        0.000163\n",
       "17        0.000147\n",
       "18        0.001019\n",
       "19        0.000105\n",
       "20        0.000479\n",
       "21        0.000398\n",
       "22        0.000253\n",
       "23        0.000265\n",
       "24        0.002171\n",
       "25        0.000687\n",
       "26        0.000034\n",
       "27        0.000465\n",
       "28        0.000032\n",
       "29        0.000229\n",
       "            ...   \n",
       "303895    0.006614\n",
       "303896    0.000089\n",
       "303897    0.001551\n",
       "303898    0.000940\n",
       "303899    0.000429\n",
       "303900    0.002976\n",
       "303901    0.000256\n",
       "303902    0.000647\n",
       "303903    0.000082\n",
       "303904    0.000096\n",
       "303905    0.000308\n",
       "303906    0.000173\n",
       "303907    0.000073\n",
       "303908    0.000269\n",
       "303909    0.000217\n",
       "303910    0.001167\n",
       "303911    0.000577\n",
       "303912    0.000375\n",
       "303913    0.001064\n",
       "303914    0.000056\n",
       "303915    0.000481\n",
       "303916    0.000394\n",
       "303917    0.000086\n",
       "303918    0.000216\n",
       "303919    0.000096\n",
       "303920    0.000422\n",
       "303921    0.000005\n",
       "303922    0.000480\n",
       "303923    0.000118\n",
       "303924    0.000341\n",
       "Name: pre_click_final, Length: 303925, dtype: float64"
      ]
     },
     "execution_count": 11,
     "metadata": {},
     "output_type": "execute_result"
    }
   ],
   "source": [
    "pred"
   ]
  },
  {
   "cell_type": "code",
   "execution_count": 12,
   "metadata": {},
   "outputs": [],
   "source": [
    "avgCTR=0.0007375623256619447\n",
    "bids = []\n",
    "base_bids = np.arange(1,302,2)\n",
    "for base_bid in base_bids:\n",
    "    for i in range(0, len(pred)):\n",
    "        bid = base_bid * (pred[i] / avgCTR)\n",
    "        bids.append(bid)                  \n"
   ]
  },
  {
   "cell_type": "code",
   "execution_count": 13,
   "metadata": {},
   "outputs": [],
   "source": [
    "bid_for_basebid = [bids[x:x+len(pred)] for x in range(0, len(bids), len(pred))]"
   ]
  },
  {
   "cell_type": "code",
   "execution_count": 14,
   "metadata": {},
   "outputs": [],
   "source": [
    "# Bidding function\n",
    "def linearbidding(bids):\n",
    "    impression = 0\n",
    "    clicks = 0\n",
    "    cost = 0  \n",
    "    budget = 6250*1000   \n",
    "    \n",
    "    win_check = bids >= valid.payprice\n",
    "    for i in range(0,len(win_check)):\n",
    "            if win_check[i]==True:\n",
    "                impression += 1\n",
    "                clicks += valid.click[i]\n",
    "                cost += valid.payprice[i]\n",
    "            if cost >= budget:\n",
    "                break\n",
    "    return impression, clicks, cost\n",
    "\n",
    "\n",
    "bid_final = pd.DataFrame()\n",
    "bid_final['bid'] = base_bids\n",
    "\n",
    "imp = []\n",
    "clks = []\n",
    "costs = []\n",
    "\n",
    "for bids in bid_for_basebid:\n",
    "    [impressions, clicks, cost] = linearbidding(bids)\n",
    "    imp.append(impressions)\n",
    "    clks.append(clicks)\n",
    "    costs.append(cost)\n",
    "\n",
    "bid_final['imps_won'] = imp\n",
    "bid_final.imps_won = bid_final.imps_won.astype(int)\n",
    "bid_final['spend'] = costs\n",
    "bid_final['clicks'] = clks\n",
    "bid_final['CTR'] = (bid_final.clicks/bid_final.imps_won * 100).round(4).astype(str)\n",
    "bid_final['CPM'] = (bid_final.spend/bid_final.imps_won * 1000).round(2).astype(str)\n",
    "bid_final['CPC'] = (bid_final.spend/bid_final.clicks).round(2).astype(str)\n"
   ]
  },
  {
   "cell_type": "code",
   "execution_count": 16,
   "metadata": {},
   "outputs": [
    {
     "data": {
      "text/plain": [
       "Text(0,0.5,'clicks')"
      ]
     },
     "execution_count": 16,
     "metadata": {},
     "output_type": "execute_result"
    },
    {
     "data": {
      "image/png": "[encoded data removed]",
      "text/plain": [
       "<Figure size 432x288 with 1 Axes>"
      ]
     },
     "metadata": {},
     "output_type": "display_data"
    }
   ],
   "source": [
    "plt.plot(bid_final.bid,bid_final.clicks)\n",
    "plt.xlabel('base_bid')\n",
    "plt.ylabel('clicks')\n"
   ]
  },
  {
   "cell_type": "code",
   "execution_count": 19,
   "metadata": {},
   "outputs": [],
   "source": [
    "aa=bid_final.clicks"
   ]
  },
  {
   "cell_type": "code",
   "execution_count": 20,
   "metadata": {},
   "outputs": [
    {
     "data": {
      "text/plain": [
       "159"
      ]
     },
     "execution_count": 20,
     "metadata": {},
     "output_type": "execute_result"
    }
   ],
   "source": [
    "aa.max()"
   ]
  },
  {
   "cell_type": "code",
   "execution_count": null,
   "metadata": {},
   "outputs": [],
   "source": []
  }
 ],
 "metadata": {
  "kernelspec": {
   "display_name": "Python 3",
   "language": "python",
   "name": "python3"
  },
  "language_info": {
   "codemirror_mode": {
    "name": "ipython",
    "version": 3
   },
   "file_extension": ".py",
   "mimetype": "text/x-python",
   "name": "python",
   "nbconvert_exporter": "python",
   "pygments_lexer": "ipython3",
   "version": "3.6.8"
  }
 },
 "nbformat": 4,
 "nbformat_minor": 2
}
